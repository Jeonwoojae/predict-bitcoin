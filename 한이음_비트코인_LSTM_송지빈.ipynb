{
  "nbformat": 4,
  "nbformat_minor": 0,
  "metadata": {
    "colab": {
      "provenance": [],
      "collapsed_sections": [
        "qWNev59z7QqE"
      ]
    },
    "kernelspec": {
      "name": "python3",
      "display_name": "Python 3"
    },
    "language_info": {
      "name": "python"
    },
    "accelerator": "GPU",
    "gpuClass": "standard"
  },
  "cells": [
    {
      "cell_type": "code",
      "source": [
        "# https://data-analysis-expertise.tistory.com/67"
      ],
      "metadata": {
        "id": "jiQvb2tmQpvV"
      },
      "execution_count": null,
      "outputs": []
    },
    {
      "cell_type": "code",
      "execution_count": 1,
      "metadata": {
        "colab": {
          "base_uri": "https://localhost:8080/"
        },
        "id": "l6v0tRcbW2xv",
        "outputId": "873f42e9-18dc-4500-91d5-569cf2ef99b6"
      },
      "outputs": [
        {
          "output_type": "stream",
          "name": "stdout",
          "text": [
            "Looking in indexes: https://pypi.org/simple, https://us-python.pkg.dev/colab-wheels/public/simple/\n",
            "Collecting pyupbit\n",
            "  Downloading pyupbit-0.2.33-py3-none-any.whl (24 kB)\n",
            "Collecting websockets\n",
            "  Downloading websockets-10.3-cp37-cp37m-manylinux_2_5_x86_64.manylinux1_x86_64.manylinux_2_12_x86_64.manylinux2010_x86_64.whl (112 kB)\n",
            "\u001b[K     |████████████████████████████████| 112 kB 38.8 MB/s \n",
            "\u001b[?25hRequirement already satisfied: pandas in /usr/local/lib/python3.7/dist-packages (from pyupbit) (1.3.5)\n",
            "Collecting pyjwt>=2.0.0\n",
            "  Downloading PyJWT-2.5.0-py3-none-any.whl (20 kB)\n",
            "Requirement already satisfied: requests in /usr/local/lib/python3.7/dist-packages (from pyupbit) (2.23.0)\n",
            "Requirement already satisfied: pytz>=2017.3 in /usr/local/lib/python3.7/dist-packages (from pandas->pyupbit) (2022.2.1)\n",
            "Requirement already satisfied: numpy>=1.17.3 in /usr/local/lib/python3.7/dist-packages (from pandas->pyupbit) (1.21.6)\n",
            "Requirement already satisfied: python-dateutil>=2.7.3 in /usr/local/lib/python3.7/dist-packages (from pandas->pyupbit) (2.8.2)\n",
            "Requirement already satisfied: six>=1.5 in /usr/local/lib/python3.7/dist-packages (from python-dateutil>=2.7.3->pandas->pyupbit) (1.15.0)\n",
            "Requirement already satisfied: certifi>=2017.4.17 in /usr/local/lib/python3.7/dist-packages (from requests->pyupbit) (2022.6.15)\n",
            "Requirement already satisfied: idna<3,>=2.5 in /usr/local/lib/python3.7/dist-packages (from requests->pyupbit) (2.10)\n",
            "Requirement already satisfied: chardet<4,>=3.0.2 in /usr/local/lib/python3.7/dist-packages (from requests->pyupbit) (3.0.4)\n",
            "Requirement already satisfied: urllib3!=1.25.0,!=1.25.1,<1.26,>=1.21.1 in /usr/local/lib/python3.7/dist-packages (from requests->pyupbit) (1.24.3)\n",
            "Installing collected packages: websockets, pyjwt, pyupbit\n",
            "Successfully installed pyjwt-2.5.0 pyupbit-0.2.33 websockets-10.3\n"
          ]
        }
      ],
      "source": [
        "# 업비트 API 설치\n",
        "!pip install pyupbit"
      ]
    },
    {
      "cell_type": "code",
      "source": [
        "# 라이브러리\n",
        "import pyupbit\n",
        "import pandas as pd\n",
        "import time\n",
        "import numpy as np"
      ],
      "metadata": {
        "id": "luqBgUIyaiE9"
      },
      "execution_count": 2,
      "outputs": []
    },
    {
      "cell_type": "code",
      "source": [
        "df = pyupbit.get_ohlcv(ticker='KRW-'+'BTC', interval='minute30', to='20220824 00:30:00', count=10000)"
      ],
      "metadata": {
        "id": "jVRh55zhp6Sh"
      },
      "execution_count": 3,
      "outputs": []
    },
    {
      "cell_type": "code",
      "source": [
        "df"
      ],
      "metadata": {
        "colab": {
          "base_uri": "https://localhost:8080/",
          "height": 424
        },
        "id": "1GAIooYpq5xB",
        "outputId": "1a254a12-abf0-41a1-98ab-489dd42c110f"
      },
      "execution_count": 4,
      "outputs": [
        {
          "output_type": "execute_result",
          "data": {
            "text/plain": [
              "                           open        high         low       close  \\\n",
              "2022-01-27 19:00:00  45010000.0  45290000.0  44999000.0  45120000.0   \n",
              "2022-01-27 19:30:00  45120000.0  45140000.0  44641000.0  44680000.0   \n",
              "2022-01-27 20:00:00  44683000.0  45070000.0  44680000.0  45063000.0   \n",
              "2022-01-27 20:30:00  45063000.0  45198000.0  44964000.0  45085000.0   \n",
              "2022-01-27 21:00:00  45080000.0  45174000.0  44968000.0  45069000.0   \n",
              "...                         ...         ...         ...         ...   \n",
              "2022-08-24 07:00:00  29258000.0  29363000.0  29244000.0  29310000.0   \n",
              "2022-08-24 07:30:00  29308000.0  29316000.0  29246000.0  29251000.0   \n",
              "2022-08-24 08:00:00  29251000.0  29356000.0  29235000.0  29307000.0   \n",
              "2022-08-24 08:30:00  29307000.0  29334000.0  29271000.0  29307000.0   \n",
              "2022-08-24 09:00:00  29287000.0  29350000.0  29202000.0  29205000.0   \n",
              "\n",
              "                         volume         value  \n",
              "2022-01-27 19:00:00  120.699604  5.449319e+09  \n",
              "2022-01-27 19:30:00  124.149361  5.571149e+09  \n",
              "2022-01-27 20:00:00  105.043347  4.712414e+09  \n",
              "2022-01-27 20:30:00  208.478363  9.400854e+09  \n",
              "2022-01-27 21:00:00  177.910725  8.025123e+09  \n",
              "...                         ...           ...  \n",
              "2022-08-24 07:00:00   48.099327  1.409912e+09  \n",
              "2022-08-24 07:30:00   39.139238  1.145906e+09  \n",
              "2022-08-24 08:00:00   37.481807  1.097833e+09  \n",
              "2022-08-24 08:30:00   59.285443  1.737083e+09  \n",
              "2022-08-24 09:00:00  100.484731  2.942094e+09  \n",
              "\n",
              "[10000 rows x 6 columns]"
            ],
            "text/html": [
              "\n",
              "  <div id=\"df-cff81690-595a-4bae-b28c-d2a52670de87\">\n",
              "    <div class=\"colab-df-container\">\n",
              "      <div>\n",
              "<style scoped>\n",
              "    .dataframe tbody tr th:only-of-type {\n",
              "        vertical-align: middle;\n",
              "    }\n",
              "\n",
              "    .dataframe tbody tr th {\n",
              "        vertical-align: top;\n",
              "    }\n",
              "\n",
              "    .dataframe thead th {\n",
              "        text-align: right;\n",
              "    }\n",
              "</style>\n",
              "<table border=\"1\" class=\"dataframe\">\n",
              "  <thead>\n",
              "    <tr style=\"text-align: right;\">\n",
              "      <th></th>\n",
              "      <th>open</th>\n",
              "      <th>high</th>\n",
              "      <th>low</th>\n",
              "      <th>close</th>\n",
              "      <th>volume</th>\n",
              "      <th>value</th>\n",
              "    </tr>\n",
              "  </thead>\n",
              "  <tbody>\n",
              "    <tr>\n",
              "      <th>2022-01-27 19:00:00</th>\n",
              "      <td>45010000.0</td>\n",
              "      <td>45290000.0</td>\n",
              "      <td>44999000.0</td>\n",
              "      <td>45120000.0</td>\n",
              "      <td>120.699604</td>\n",
              "      <td>5.449319e+09</td>\n",
              "    </tr>\n",
              "    <tr>\n",
              "      <th>2022-01-27 19:30:00</th>\n",
              "      <td>45120000.0</td>\n",
              "      <td>45140000.0</td>\n",
              "      <td>44641000.0</td>\n",
              "      <td>44680000.0</td>\n",
              "      <td>124.149361</td>\n",
              "      <td>5.571149e+09</td>\n",
              "    </tr>\n",
              "    <tr>\n",
              "      <th>2022-01-27 20:00:00</th>\n",
              "      <td>44683000.0</td>\n",
              "      <td>45070000.0</td>\n",
              "      <td>44680000.0</td>\n",
              "      <td>45063000.0</td>\n",
              "      <td>105.043347</td>\n",
              "      <td>4.712414e+09</td>\n",
              "    </tr>\n",
              "    <tr>\n",
              "      <th>2022-01-27 20:30:00</th>\n",
              "      <td>45063000.0</td>\n",
              "      <td>45198000.0</td>\n",
              "      <td>44964000.0</td>\n",
              "      <td>45085000.0</td>\n",
              "      <td>208.478363</td>\n",
              "      <td>9.400854e+09</td>\n",
              "    </tr>\n",
              "    <tr>\n",
              "      <th>2022-01-27 21:00:00</th>\n",
              "      <td>45080000.0</td>\n",
              "      <td>45174000.0</td>\n",
              "      <td>44968000.0</td>\n",
              "      <td>45069000.0</td>\n",
              "      <td>177.910725</td>\n",
              "      <td>8.025123e+09</td>\n",
              "    </tr>\n",
              "    <tr>\n",
              "      <th>...</th>\n",
              "      <td>...</td>\n",
              "      <td>...</td>\n",
              "      <td>...</td>\n",
              "      <td>...</td>\n",
              "      <td>...</td>\n",
              "      <td>...</td>\n",
              "    </tr>\n",
              "    <tr>\n",
              "      <th>2022-08-24 07:00:00</th>\n",
              "      <td>29258000.0</td>\n",
              "      <td>29363000.0</td>\n",
              "      <td>29244000.0</td>\n",
              "      <td>29310000.0</td>\n",
              "      <td>48.099327</td>\n",
              "      <td>1.409912e+09</td>\n",
              "    </tr>\n",
              "    <tr>\n",
              "      <th>2022-08-24 07:30:00</th>\n",
              "      <td>29308000.0</td>\n",
              "      <td>29316000.0</td>\n",
              "      <td>29246000.0</td>\n",
              "      <td>29251000.0</td>\n",
              "      <td>39.139238</td>\n",
              "      <td>1.145906e+09</td>\n",
              "    </tr>\n",
              "    <tr>\n",
              "      <th>2022-08-24 08:00:00</th>\n",
              "      <td>29251000.0</td>\n",
              "      <td>29356000.0</td>\n",
              "      <td>29235000.0</td>\n",
              "      <td>29307000.0</td>\n",
              "      <td>37.481807</td>\n",
              "      <td>1.097833e+09</td>\n",
              "    </tr>\n",
              "    <tr>\n",
              "      <th>2022-08-24 08:30:00</th>\n",
              "      <td>29307000.0</td>\n",
              "      <td>29334000.0</td>\n",
              "      <td>29271000.0</td>\n",
              "      <td>29307000.0</td>\n",
              "      <td>59.285443</td>\n",
              "      <td>1.737083e+09</td>\n",
              "    </tr>\n",
              "    <tr>\n",
              "      <th>2022-08-24 09:00:00</th>\n",
              "      <td>29287000.0</td>\n",
              "      <td>29350000.0</td>\n",
              "      <td>29202000.0</td>\n",
              "      <td>29205000.0</td>\n",
              "      <td>100.484731</td>\n",
              "      <td>2.942094e+09</td>\n",
              "    </tr>\n",
              "  </tbody>\n",
              "</table>\n",
              "<p>10000 rows × 6 columns</p>\n",
              "</div>\n",
              "      <button class=\"colab-df-convert\" onclick=\"convertToInteractive('df-cff81690-595a-4bae-b28c-d2a52670de87')\"\n",
              "              title=\"Convert this dataframe to an interactive table.\"\n",
              "              style=\"display:none;\">\n",
              "        \n",
              "  <svg xmlns=\"http://www.w3.org/2000/svg\" height=\"24px\"viewBox=\"0 0 24 24\"\n",
              "       width=\"24px\">\n",
              "    <path d=\"M0 0h24v24H0V0z\" fill=\"none\"/>\n",
              "    <path d=\"M18.56 5.44l.94 2.06.94-2.06 2.06-.94-2.06-.94-.94-2.06-.94 2.06-2.06.94zm-11 1L8.5 8.5l.94-2.06 2.06-.94-2.06-.94L8.5 2.5l-.94 2.06-2.06.94zm10 10l.94 2.06.94-2.06 2.06-.94-2.06-.94-.94-2.06-.94 2.06-2.06.94z\"/><path d=\"M17.41 7.96l-1.37-1.37c-.4-.4-.92-.59-1.43-.59-.52 0-1.04.2-1.43.59L10.3 9.45l-7.72 7.72c-.78.78-.78 2.05 0 2.83L4 21.41c.39.39.9.59 1.41.59.51 0 1.02-.2 1.41-.59l7.78-7.78 2.81-2.81c.8-.78.8-2.07 0-2.86zM5.41 20L4 18.59l7.72-7.72 1.47 1.35L5.41 20z\"/>\n",
              "  </svg>\n",
              "      </button>\n",
              "      \n",
              "  <style>\n",
              "    .colab-df-container {\n",
              "      display:flex;\n",
              "      flex-wrap:wrap;\n",
              "      gap: 12px;\n",
              "    }\n",
              "\n",
              "    .colab-df-convert {\n",
              "      background-color: #E8F0FE;\n",
              "      border: none;\n",
              "      border-radius: 50%;\n",
              "      cursor: pointer;\n",
              "      display: none;\n",
              "      fill: #1967D2;\n",
              "      height: 32px;\n",
              "      padding: 0 0 0 0;\n",
              "      width: 32px;\n",
              "    }\n",
              "\n",
              "    .colab-df-convert:hover {\n",
              "      background-color: #E2EBFA;\n",
              "      box-shadow: 0px 1px 2px rgba(60, 64, 67, 0.3), 0px 1px 3px 1px rgba(60, 64, 67, 0.15);\n",
              "      fill: #174EA6;\n",
              "    }\n",
              "\n",
              "    [theme=dark] .colab-df-convert {\n",
              "      background-color: #3B4455;\n",
              "      fill: #D2E3FC;\n",
              "    }\n",
              "\n",
              "    [theme=dark] .colab-df-convert:hover {\n",
              "      background-color: #434B5C;\n",
              "      box-shadow: 0px 1px 3px 1px rgba(0, 0, 0, 0.15);\n",
              "      filter: drop-shadow(0px 1px 2px rgba(0, 0, 0, 0.3));\n",
              "      fill: #FFFFFF;\n",
              "    }\n",
              "  </style>\n",
              "\n",
              "      <script>\n",
              "        const buttonEl =\n",
              "          document.querySelector('#df-cff81690-595a-4bae-b28c-d2a52670de87 button.colab-df-convert');\n",
              "        buttonEl.style.display =\n",
              "          google.colab.kernel.accessAllowed ? 'block' : 'none';\n",
              "\n",
              "        async function convertToInteractive(key) {\n",
              "          const element = document.querySelector('#df-cff81690-595a-4bae-b28c-d2a52670de87');\n",
              "          const dataTable =\n",
              "            await google.colab.kernel.invokeFunction('convertToInteractive',\n",
              "                                                     [key], {});\n",
              "          if (!dataTable) return;\n",
              "\n",
              "          const docLinkHtml = 'Like what you see? Visit the ' +\n",
              "            '<a target=\"_blank\" href=https://colab.research.google.com/notebooks/data_table.ipynb>data table notebook</a>'\n",
              "            + ' to learn more about interactive tables.';\n",
              "          element.innerHTML = '';\n",
              "          dataTable['output_type'] = 'display_data';\n",
              "          await google.colab.output.renderOutput(dataTable, element);\n",
              "          const docLink = document.createElement('div');\n",
              "          docLink.innerHTML = docLinkHtml;\n",
              "          element.appendChild(docLink);\n",
              "        }\n",
              "      </script>\n",
              "    </div>\n",
              "  </div>\n",
              "  "
            ]
          },
          "metadata": {},
          "execution_count": 4
        }
      ]
    },
    {
      "cell_type": "code",
      "source": [
        "times = df.index\n",
        "times"
      ],
      "metadata": {
        "colab": {
          "base_uri": "https://localhost:8080/"
        },
        "id": "Wox40ZeJiWVr",
        "outputId": "7312403a-f6e5-45f4-fc20-464b6e74644e"
      },
      "execution_count": 5,
      "outputs": [
        {
          "output_type": "execute_result",
          "data": {
            "text/plain": [
              "DatetimeIndex(['2022-01-27 19:00:00', '2022-01-27 19:30:00',\n",
              "               '2022-01-27 20:00:00', '2022-01-27 20:30:00',\n",
              "               '2022-01-27 21:00:00', '2022-01-27 21:30:00',\n",
              "               '2022-01-27 22:00:00', '2022-01-27 22:30:00',\n",
              "               '2022-01-27 23:00:00', '2022-01-27 23:30:00',\n",
              "               ...\n",
              "               '2022-08-24 04:30:00', '2022-08-24 05:00:00',\n",
              "               '2022-08-24 05:30:00', '2022-08-24 06:00:00',\n",
              "               '2022-08-24 06:30:00', '2022-08-24 07:00:00',\n",
              "               '2022-08-24 07:30:00', '2022-08-24 08:00:00',\n",
              "               '2022-08-24 08:30:00', '2022-08-24 09:00:00'],\n",
              "              dtype='datetime64[ns]', length=10000, freq=None)"
            ]
          },
          "metadata": {},
          "execution_count": 5
        }
      ]
    },
    {
      "cell_type": "code",
      "source": [
        "df.index.value_counts()"
      ],
      "metadata": {
        "colab": {
          "base_uri": "https://localhost:8080/"
        },
        "id": "1tzKTntZlMwK",
        "outputId": "c8b25c35-ec42-4fb5-b1e3-b2af7a61a847"
      },
      "execution_count": 6,
      "outputs": [
        {
          "output_type": "execute_result",
          "data": {
            "text/plain": [
              "2022-01-27 19:00:00    1\n",
              "2022-06-15 21:30:00    1\n",
              "2022-06-15 18:00:00    1\n",
              "2022-06-15 18:30:00    1\n",
              "2022-06-15 19:00:00    1\n",
              "                      ..\n",
              "2022-04-07 07:30:00    1\n",
              "2022-04-07 08:00:00    1\n",
              "2022-04-07 08:30:00    1\n",
              "2022-04-07 09:00:00    1\n",
              "2022-08-24 09:00:00    1\n",
              "Length: 10000, dtype: int64"
            ]
          },
          "metadata": {},
          "execution_count": 6
        }
      ]
    },
    {
      "cell_type": "code",
      "source": [
        "df.columns"
      ],
      "metadata": {
        "colab": {
          "base_uri": "https://localhost:8080/"
        },
        "id": "mh253g7gbDQG",
        "outputId": "08af42d8-fd3e-4e3f-f9bf-361f3daf68e6"
      },
      "execution_count": 7,
      "outputs": [
        {
          "output_type": "execute_result",
          "data": {
            "text/plain": [
              "Index(['open', 'high', 'low', 'close', 'volume', 'value'], dtype='object')"
            ]
          },
          "metadata": {},
          "execution_count": 7
        }
      ]
    },
    {
      "cell_type": "code",
      "source": [
        "target_prices = df['close'].values"
      ],
      "metadata": {
        "id": "5sq3JcmKbG2C"
      },
      "execution_count": 8,
      "outputs": []
    },
    {
      "cell_type": "code",
      "source": [
        "seq_len = 50\n",
        "sequence_length = seq_len + 1\n",
        "\n",
        "result = []\n",
        "for index in range(len(target_prices) - sequence_length):\n",
        "    result.append(target_prices[index: index + sequence_length])\n",
        "    # 51개씩 append 하기, 마지막 하나는 예측하려는 값"
      ],
      "metadata": {
        "id": "dLBMfi6XxqA6"
      },
      "execution_count": 9,
      "outputs": []
    },
    {
      "cell_type": "code",
      "source": [
        "target_prices[0: 0 + sequence_length]"
      ],
      "metadata": {
        "colab": {
          "base_uri": "https://localhost:8080/"
        },
        "id": "3xt_PvfG2Tae",
        "outputId": "b8cd7d7f-1bf7-46f0-a726-30113d3d0776"
      },
      "execution_count": 10,
      "outputs": [
        {
          "output_type": "execute_result",
          "data": {
            "text/plain": [
              "array([45120000., 44680000., 45063000., 45085000., 45069000., 45095000.,\n",
              "       45102000., 45197000., 45201000., 45266000., 45005000., 44865000.,\n",
              "       44661000., 44689000., 44632000., 44510000., 44290000., 44453000.,\n",
              "       44468000., 44556000., 44502000., 44218000., 44211000., 44886000.,\n",
              "       44830000., 45341000., 45500000., 45809000., 45702000., 45709000.,\n",
              "       45560000., 45564000., 45464000., 45549000., 45869000., 45900000.,\n",
              "       45878000., 45831000., 45914000., 45760000., 45868000., 45543000.,\n",
              "       45633000., 45575000., 45411000., 45542000., 45614000., 45445000.,\n",
              "       45515000., 45563000., 45412000.])"
            ]
          },
          "metadata": {},
          "execution_count": 10
        }
      ]
    },
    {
      "cell_type": "code",
      "source": [
        "target_prices.shape"
      ],
      "metadata": {
        "colab": {
          "base_uri": "https://localhost:8080/"
        },
        "id": "IWILXDt005ha",
        "outputId": "d335512d-69a7-4373-e5a4-b261369165a2"
      },
      "execution_count": 11,
      "outputs": [
        {
          "output_type": "execute_result",
          "data": {
            "text/plain": [
              "(10000,)"
            ]
          },
          "metadata": {},
          "execution_count": 11
        }
      ]
    },
    {
      "cell_type": "code",
      "source": [
        "len(result)"
      ],
      "metadata": {
        "colab": {
          "base_uri": "https://localhost:8080/"
        },
        "id": "mzGc3oh-1xpB",
        "outputId": "61c75052-19b9-4d6e-edf8-0e2a1bb02c1f"
      },
      "execution_count": 12,
      "outputs": [
        {
          "output_type": "execute_result",
          "data": {
            "text/plain": [
              "9949"
            ]
          },
          "metadata": {},
          "execution_count": 12
        }
      ]
    },
    {
      "cell_type": "code",
      "source": [
        "import requests\n",
        "import pandas as pd\n",
        "import matplotlib.pyplot as plt\n",
        "import seaborn as sns\n",
        "from sklearn.preprocessing import MinMaxScaler\n",
        "from sklearn.model_selection import train_test_split\n",
        "import tensorflow as tf\n",
        "from tensorflow.keras.models import Sequential\n",
        "from tensorflow.keras.layers import Dense, LSTM, Conv1D, Lambda\n",
        "from tensorflow.keras.losses import Huber\n",
        "from tensorflow.keras.optimizers import Adam\n",
        "from tensorflow.keras.callbacks import EarlyStopping, ModelCheckpoint\n",
        "import os\n",
        "import datetime\n",
        "import numpy as np"
      ],
      "metadata": {
        "id": "pwV3KxqcMRhc"
      },
      "execution_count": 13,
      "outputs": []
    },
    {
      "cell_type": "code",
      "source": [
        "df"
      ],
      "metadata": {
        "colab": {
          "base_uri": "https://localhost:8080/",
          "height": 424
        },
        "id": "XM6cDPQf9ttz",
        "outputId": "0c762024-22ea-4e62-c759-83577646356c"
      },
      "execution_count": 14,
      "outputs": [
        {
          "output_type": "execute_result",
          "data": {
            "text/plain": [
              "                           open        high         low       close  \\\n",
              "2022-01-27 19:00:00  45010000.0  45290000.0  44999000.0  45120000.0   \n",
              "2022-01-27 19:30:00  45120000.0  45140000.0  44641000.0  44680000.0   \n",
              "2022-01-27 20:00:00  44683000.0  45070000.0  44680000.0  45063000.0   \n",
              "2022-01-27 20:30:00  45063000.0  45198000.0  44964000.0  45085000.0   \n",
              "2022-01-27 21:00:00  45080000.0  45174000.0  44968000.0  45069000.0   \n",
              "...                         ...         ...         ...         ...   \n",
              "2022-08-24 07:00:00  29258000.0  29363000.0  29244000.0  29310000.0   \n",
              "2022-08-24 07:30:00  29308000.0  29316000.0  29246000.0  29251000.0   \n",
              "2022-08-24 08:00:00  29251000.0  29356000.0  29235000.0  29307000.0   \n",
              "2022-08-24 08:30:00  29307000.0  29334000.0  29271000.0  29307000.0   \n",
              "2022-08-24 09:00:00  29287000.0  29350000.0  29202000.0  29205000.0   \n",
              "\n",
              "                         volume         value  \n",
              "2022-01-27 19:00:00  120.699604  5.449319e+09  \n",
              "2022-01-27 19:30:00  124.149361  5.571149e+09  \n",
              "2022-01-27 20:00:00  105.043347  4.712414e+09  \n",
              "2022-01-27 20:30:00  208.478363  9.400854e+09  \n",
              "2022-01-27 21:00:00  177.910725  8.025123e+09  \n",
              "...                         ...           ...  \n",
              "2022-08-24 07:00:00   48.099327  1.409912e+09  \n",
              "2022-08-24 07:30:00   39.139238  1.145906e+09  \n",
              "2022-08-24 08:00:00   37.481807  1.097833e+09  \n",
              "2022-08-24 08:30:00   59.285443  1.737083e+09  \n",
              "2022-08-24 09:00:00  100.484731  2.942094e+09  \n",
              "\n",
              "[10000 rows x 6 columns]"
            ],
            "text/html": [
              "\n",
              "  <div id=\"df-9fb1ea1e-9f6f-455f-b6db-65757e0fd47a\">\n",
              "    <div class=\"colab-df-container\">\n",
              "      <div>\n",
              "<style scoped>\n",
              "    .dataframe tbody tr th:only-of-type {\n",
              "        vertical-align: middle;\n",
              "    }\n",
              "\n",
              "    .dataframe tbody tr th {\n",
              "        vertical-align: top;\n",
              "    }\n",
              "\n",
              "    .dataframe thead th {\n",
              "        text-align: right;\n",
              "    }\n",
              "</style>\n",
              "<table border=\"1\" class=\"dataframe\">\n",
              "  <thead>\n",
              "    <tr style=\"text-align: right;\">\n",
              "      <th></th>\n",
              "      <th>open</th>\n",
              "      <th>high</th>\n",
              "      <th>low</th>\n",
              "      <th>close</th>\n",
              "      <th>volume</th>\n",
              "      <th>value</th>\n",
              "    </tr>\n",
              "  </thead>\n",
              "  <tbody>\n",
              "    <tr>\n",
              "      <th>2022-01-27 19:00:00</th>\n",
              "      <td>45010000.0</td>\n",
              "      <td>45290000.0</td>\n",
              "      <td>44999000.0</td>\n",
              "      <td>45120000.0</td>\n",
              "      <td>120.699604</td>\n",
              "      <td>5.449319e+09</td>\n",
              "    </tr>\n",
              "    <tr>\n",
              "      <th>2022-01-27 19:30:00</th>\n",
              "      <td>45120000.0</td>\n",
              "      <td>45140000.0</td>\n",
              "      <td>44641000.0</td>\n",
              "      <td>44680000.0</td>\n",
              "      <td>124.149361</td>\n",
              "      <td>5.571149e+09</td>\n",
              "    </tr>\n",
              "    <tr>\n",
              "      <th>2022-01-27 20:00:00</th>\n",
              "      <td>44683000.0</td>\n",
              "      <td>45070000.0</td>\n",
              "      <td>44680000.0</td>\n",
              "      <td>45063000.0</td>\n",
              "      <td>105.043347</td>\n",
              "      <td>4.712414e+09</td>\n",
              "    </tr>\n",
              "    <tr>\n",
              "      <th>2022-01-27 20:30:00</th>\n",
              "      <td>45063000.0</td>\n",
              "      <td>45198000.0</td>\n",
              "      <td>44964000.0</td>\n",
              "      <td>45085000.0</td>\n",
              "      <td>208.478363</td>\n",
              "      <td>9.400854e+09</td>\n",
              "    </tr>\n",
              "    <tr>\n",
              "      <th>2022-01-27 21:00:00</th>\n",
              "      <td>45080000.0</td>\n",
              "      <td>45174000.0</td>\n",
              "      <td>44968000.0</td>\n",
              "      <td>45069000.0</td>\n",
              "      <td>177.910725</td>\n",
              "      <td>8.025123e+09</td>\n",
              "    </tr>\n",
              "    <tr>\n",
              "      <th>...</th>\n",
              "      <td>...</td>\n",
              "      <td>...</td>\n",
              "      <td>...</td>\n",
              "      <td>...</td>\n",
              "      <td>...</td>\n",
              "      <td>...</td>\n",
              "    </tr>\n",
              "    <tr>\n",
              "      <th>2022-08-24 07:00:00</th>\n",
              "      <td>29258000.0</td>\n",
              "      <td>29363000.0</td>\n",
              "      <td>29244000.0</td>\n",
              "      <td>29310000.0</td>\n",
              "      <td>48.099327</td>\n",
              "      <td>1.409912e+09</td>\n",
              "    </tr>\n",
              "    <tr>\n",
              "      <th>2022-08-24 07:30:00</th>\n",
              "      <td>29308000.0</td>\n",
              "      <td>29316000.0</td>\n",
              "      <td>29246000.0</td>\n",
              "      <td>29251000.0</td>\n",
              "      <td>39.139238</td>\n",
              "      <td>1.145906e+09</td>\n",
              "    </tr>\n",
              "    <tr>\n",
              "      <th>2022-08-24 08:00:00</th>\n",
              "      <td>29251000.0</td>\n",
              "      <td>29356000.0</td>\n",
              "      <td>29235000.0</td>\n",
              "      <td>29307000.0</td>\n",
              "      <td>37.481807</td>\n",
              "      <td>1.097833e+09</td>\n",
              "    </tr>\n",
              "    <tr>\n",
              "      <th>2022-08-24 08:30:00</th>\n",
              "      <td>29307000.0</td>\n",
              "      <td>29334000.0</td>\n",
              "      <td>29271000.0</td>\n",
              "      <td>29307000.0</td>\n",
              "      <td>59.285443</td>\n",
              "      <td>1.737083e+09</td>\n",
              "    </tr>\n",
              "    <tr>\n",
              "      <th>2022-08-24 09:00:00</th>\n",
              "      <td>29287000.0</td>\n",
              "      <td>29350000.0</td>\n",
              "      <td>29202000.0</td>\n",
              "      <td>29205000.0</td>\n",
              "      <td>100.484731</td>\n",
              "      <td>2.942094e+09</td>\n",
              "    </tr>\n",
              "  </tbody>\n",
              "</table>\n",
              "<p>10000 rows × 6 columns</p>\n",
              "</div>\n",
              "      <button class=\"colab-df-convert\" onclick=\"convertToInteractive('df-9fb1ea1e-9f6f-455f-b6db-65757e0fd47a')\"\n",
              "              title=\"Convert this dataframe to an interactive table.\"\n",
              "              style=\"display:none;\">\n",
              "        \n",
              "  <svg xmlns=\"http://www.w3.org/2000/svg\" height=\"24px\"viewBox=\"0 0 24 24\"\n",
              "       width=\"24px\">\n",
              "    <path d=\"M0 0h24v24H0V0z\" fill=\"none\"/>\n",
              "    <path d=\"M18.56 5.44l.94 2.06.94-2.06 2.06-.94-2.06-.94-.94-2.06-.94 2.06-2.06.94zm-11 1L8.5 8.5l.94-2.06 2.06-.94-2.06-.94L8.5 2.5l-.94 2.06-2.06.94zm10 10l.94 2.06.94-2.06 2.06-.94-2.06-.94-.94-2.06-.94 2.06-2.06.94z\"/><path d=\"M17.41 7.96l-1.37-1.37c-.4-.4-.92-.59-1.43-.59-.52 0-1.04.2-1.43.59L10.3 9.45l-7.72 7.72c-.78.78-.78 2.05 0 2.83L4 21.41c.39.39.9.59 1.41.59.51 0 1.02-.2 1.41-.59l7.78-7.78 2.81-2.81c.8-.78.8-2.07 0-2.86zM5.41 20L4 18.59l7.72-7.72 1.47 1.35L5.41 20z\"/>\n",
              "  </svg>\n",
              "      </button>\n",
              "      \n",
              "  <style>\n",
              "    .colab-df-container {\n",
              "      display:flex;\n",
              "      flex-wrap:wrap;\n",
              "      gap: 12px;\n",
              "    }\n",
              "\n",
              "    .colab-df-convert {\n",
              "      background-color: #E8F0FE;\n",
              "      border: none;\n",
              "      border-radius: 50%;\n",
              "      cursor: pointer;\n",
              "      display: none;\n",
              "      fill: #1967D2;\n",
              "      height: 32px;\n",
              "      padding: 0 0 0 0;\n",
              "      width: 32px;\n",
              "    }\n",
              "\n",
              "    .colab-df-convert:hover {\n",
              "      background-color: #E2EBFA;\n",
              "      box-shadow: 0px 1px 2px rgba(60, 64, 67, 0.3), 0px 1px 3px 1px rgba(60, 64, 67, 0.15);\n",
              "      fill: #174EA6;\n",
              "    }\n",
              "\n",
              "    [theme=dark] .colab-df-convert {\n",
              "      background-color: #3B4455;\n",
              "      fill: #D2E3FC;\n",
              "    }\n",
              "\n",
              "    [theme=dark] .colab-df-convert:hover {\n",
              "      background-color: #434B5C;\n",
              "      box-shadow: 0px 1px 3px 1px rgba(0, 0, 0, 0.15);\n",
              "      filter: drop-shadow(0px 1px 2px rgba(0, 0, 0, 0.3));\n",
              "      fill: #FFFFFF;\n",
              "    }\n",
              "  </style>\n",
              "\n",
              "      <script>\n",
              "        const buttonEl =\n",
              "          document.querySelector('#df-9fb1ea1e-9f6f-455f-b6db-65757e0fd47a button.colab-df-convert');\n",
              "        buttonEl.style.display =\n",
              "          google.colab.kernel.accessAllowed ? 'block' : 'none';\n",
              "\n",
              "        async function convertToInteractive(key) {\n",
              "          const element = document.querySelector('#df-9fb1ea1e-9f6f-455f-b6db-65757e0fd47a');\n",
              "          const dataTable =\n",
              "            await google.colab.kernel.invokeFunction('convertToInteractive',\n",
              "                                                     [key], {});\n",
              "          if (!dataTable) return;\n",
              "\n",
              "          const docLinkHtml = 'Like what you see? Visit the ' +\n",
              "            '<a target=\"_blank\" href=https://colab.research.google.com/notebooks/data_table.ipynb>data table notebook</a>'\n",
              "            + ' to learn more about interactive tables.';\n",
              "          element.innerHTML = '';\n",
              "          dataTable['output_type'] = 'display_data';\n",
              "          await google.colab.output.renderOutput(dataTable, element);\n",
              "          const docLink = document.createElement('div');\n",
              "          docLink.innerHTML = docLinkHtml;\n",
              "          element.appendChild(docLink);\n",
              "        }\n",
              "      </script>\n",
              "    </div>\n",
              "  </div>\n",
              "  "
            ]
          },
          "metadata": {},
          "execution_count": 14
        }
      ]
    },
    {
      "cell_type": "code",
      "source": [
        "WINDOW_SIZE = 20\n",
        "time_steps = 20\n",
        "all_data = df\n",
        "for_periods = 1"
      ],
      "metadata": {
        "id": "Fvp5sSXbxvlH"
      },
      "execution_count": 15,
      "outputs": []
    },
    {
      "cell_type": "code",
      "source": [
        "# training & test set 만들기\n",
        "TEST_SIZE = 2000\n",
        "\n",
        "ts_train = df[:-TEST_SIZE].values\n",
        "ts_test = df[-TEST_SIZE:].values\n",
        "ts_train_len = len(ts_train)\n",
        "ts_test_len = len(ts_test)"
      ],
      "metadata": {
        "id": "wZI5NDEhxntP"
      },
      "execution_count": 16,
      "outputs": []
    },
    {
      "cell_type": "code",
      "source": [
        "# training 데이터의 samples와 time steps로 원본데이터 슬라이싱하기\n",
        "X_train_full = []\n",
        "y_train_full = []\n",
        "y_train_stacked = []\n",
        "for i in range(time_steps, ts_train_len - 1):\n",
        "  X_train_full.append(ts_train[i-time_steps:i,0])\n",
        "  y_train_full.append(ts_train[i:i+for_periods, 0])\n",
        "X_train_full, y_train_full = np.array(X_train_full), np.array(y_train_full)"
      ],
      "metadata": {
        "id": "yRtUwYQtyY9w"
      },
      "execution_count": 17,
      "outputs": []
    },
    {
      "cell_type": "code",
      "source": [
        "print(X_train_full.shape)\n",
        "print(y_train_full.shape)"
      ],
      "metadata": {
        "colab": {
          "base_uri": "https://localhost:8080/"
        },
        "id": "AnAvXNKx0kZH",
        "outputId": "64ded457-afcd-4ae9-ef99-1d0b743e80b6"
      },
      "execution_count": 18,
      "outputs": [
        {
          "output_type": "stream",
          "name": "stdout",
          "text": [
            "(7979, 20)\n",
            "(7979, 1)\n"
          ]
        }
      ]
    },
    {
      "cell_type": "code",
      "source": [
        "# scale the data\n",
        "from sklearn.preprocessing import MinMaxScaler\n",
        "sc = MinMaxScaler()\n",
        "sc1 = MinMaxScaler()\n",
        "X_train_full_scaled = sc.fit_transform(X_train_full)\n",
        "\n",
        "y_train_full_scaled = sc1.fit_transform(y_train_full)"
      ],
      "metadata": {
        "id": "mW8cpKoBMdx8"
      },
      "execution_count": 19,
      "outputs": []
    },
    {
      "cell_type": "code",
      "source": [
        "# 3차원으로 재구성하기\n",
        "X_train_full_scaled = np.reshape(X_train_full_scaled, (X_train_full_scaled.shape[0], X_train_full_scaled.shape[1], 1))"
      ],
      "metadata": {
        "id": "W4w11JB00gm3"
      },
      "execution_count": 20,
      "outputs": []
    },
    {
      "cell_type": "code",
      "source": [
        "print(X_train_full_scaled.shape)"
      ],
      "metadata": {
        "colab": {
          "base_uri": "https://localhost:8080/"
        },
        "id": "n-ilozEDNAuU",
        "outputId": "8048bc51-9dc1-4c2b-f66c-2aab7d513069"
      },
      "execution_count": 21,
      "outputs": [
        {
          "output_type": "stream",
          "name": "stdout",
          "text": [
            "(7979, 20, 1)\n"
          ]
        }
      ]
    },
    {
      "cell_type": "code",
      "source": [
        "# Preparing to create X_test\n",
        "# inputs = sc.transform(df.values)\n",
        "inputs = df[len(df)-len(ts_test) - time_steps:]\n",
        "# inputs = inputs.reshape(-1,1)"
      ],
      "metadata": {
        "id": "6oSaRk_b1Use"
      },
      "execution_count": 22,
      "outputs": []
    },
    {
      "cell_type": "code",
      "source": [
        "inputs = np.array(inputs)"
      ],
      "metadata": {
        "id": "5n4SWBLuLfqO"
      },
      "execution_count": 23,
      "outputs": []
    },
    {
      "cell_type": "code",
      "source": [
        "X_test = []\n",
        "for i in range(time_steps, ts_test_len + time_steps - for_periods):\n",
        "  X_test.append(inputs[i-time_steps:i,0])\n",
        "X_test = np.array(X_test)\n",
        "\n",
        "# 스케일링\n",
        "X_test_scaled = sc.transform(X_test)\n",
        "\n",
        "\n",
        "X_test_scaled = np.reshape(X_test_scaled, (X_test_scaled.shape[0], X_test_scaled.shape[1], 1))"
      ],
      "metadata": {
        "id": "6eTr_0EQ3JhH"
      },
      "execution_count": 24,
      "outputs": []
    },
    {
      "cell_type": "code",
      "source": [
        "print(X_train_full_scaled.shape)\n",
        "print(y_train_full_scaled.shape)\n",
        "print(X_test_scaled.shape)"
      ],
      "metadata": {
        "colab": {
          "base_uri": "https://localhost:8080/"
        },
        "id": "0oSXVPCm3I74",
        "outputId": "d2503685-0b83-4423-aaad-238c37521a74"
      },
      "execution_count": 25,
      "outputs": [
        {
          "output_type": "stream",
          "name": "stdout",
          "text": [
            "(7979, 20, 1)\n",
            "(7979, 1)\n",
            "(1999, 20, 1)\n"
          ]
        }
      ]
    },
    {
      "cell_type": "code",
      "source": [
        "X_train_see = pd.DataFrame(np.reshape(X_train_full, (X_train_full.shape[0], X_train_full.shape[1])))\n",
        "y_train_see = pd.DataFrame(y_train_full_scaled)\n",
        "pd.concat([X_train_see, y_train_see], axis=1)"
      ],
      "metadata": {
        "colab": {
          "base_uri": "https://localhost:8080/",
          "height": 424
        },
        "id": "HceKr5Qn4KDi",
        "outputId": "8c8f59cc-b228-481b-b855-26010f6d9882"
      },
      "execution_count": 27,
      "outputs": [
        {
          "output_type": "execute_result",
          "data": {
            "text/plain": [
              "              0           1           2           3           4           5   \\\n",
              "0     45010000.0  45120000.0  44683000.0  45063000.0  45080000.0  45066000.0   \n",
              "1     45120000.0  44683000.0  45063000.0  45080000.0  45066000.0  45094000.0   \n",
              "2     44683000.0  45063000.0  45080000.0  45066000.0  45094000.0  45102000.0   \n",
              "3     45063000.0  45080000.0  45066000.0  45094000.0  45102000.0  45197000.0   \n",
              "4     45080000.0  45066000.0  45094000.0  45102000.0  45197000.0  45201000.0   \n",
              "...          ...         ...         ...         ...         ...         ...   \n",
              "7974  25768000.0  25832000.0  25939000.0  25906000.0  25935000.0  25748000.0   \n",
              "7975  25832000.0  25939000.0  25906000.0  25935000.0  25748000.0  25860000.0   \n",
              "7976  25939000.0  25906000.0  25935000.0  25748000.0  25860000.0  25730000.0   \n",
              "7977  25906000.0  25935000.0  25748000.0  25860000.0  25730000.0  25757000.0   \n",
              "7978  25935000.0  25748000.0  25860000.0  25730000.0  25757000.0  25723000.0   \n",
              "\n",
              "              6           7           8           9   ...          11  \\\n",
              "0     45094000.0  45102000.0  45197000.0  45201000.0  ...  45005000.0   \n",
              "1     45102000.0  45197000.0  45201000.0  45266000.0  ...  44864000.0   \n",
              "2     45197000.0  45201000.0  45266000.0  45005000.0  ...  44661000.0   \n",
              "3     45201000.0  45266000.0  45005000.0  44864000.0  ...  44689000.0   \n",
              "4     45266000.0  45005000.0  44864000.0  44661000.0  ...  44615000.0   \n",
              "...          ...         ...         ...         ...  ...         ...   \n",
              "7974  25860000.0  25730000.0  25757000.0  25723000.0  ...  25799000.0   \n",
              "7975  25730000.0  25757000.0  25723000.0  25734000.0  ...  25757000.0   \n",
              "7976  25757000.0  25723000.0  25734000.0  25799000.0  ...  25822000.0   \n",
              "7977  25723000.0  25734000.0  25799000.0  25757000.0  ...  25845000.0   \n",
              "7978  25734000.0  25799000.0  25757000.0  25822000.0  ...  25884000.0   \n",
              "\n",
              "              12          13          14          15          16          17  \\\n",
              "0     44864000.0  44661000.0  44689000.0  44615000.0  44510000.0  44290000.0   \n",
              "1     44661000.0  44689000.0  44615000.0  44510000.0  44290000.0  44512000.0   \n",
              "2     44689000.0  44615000.0  44510000.0  44290000.0  44512000.0  44468000.0   \n",
              "3     44615000.0  44510000.0  44290000.0  44512000.0  44468000.0  44559000.0   \n",
              "4     44510000.0  44290000.0  44512000.0  44468000.0  44559000.0  44503000.0   \n",
              "...          ...         ...         ...         ...         ...         ...   \n",
              "7974  25757000.0  25822000.0  25845000.0  25884000.0  25881000.0  25819000.0   \n",
              "7975  25822000.0  25845000.0  25884000.0  25881000.0  25819000.0  25816000.0   \n",
              "7976  25845000.0  25884000.0  25881000.0  25819000.0  25816000.0  25772000.0   \n",
              "7977  25884000.0  25881000.0  25819000.0  25816000.0  25772000.0  25779000.0   \n",
              "7978  25881000.0  25819000.0  25816000.0  25772000.0  25779000.0  25833000.0   \n",
              "\n",
              "              18          19        0   \n",
              "0     44512000.0  44468000.0  0.612181  \n",
              "1     44468000.0  44559000.0  0.610519  \n",
              "2     44559000.0  44503000.0  0.602065  \n",
              "3     44503000.0  44218000.0  0.599513  \n",
              "4     44218000.0  44132000.0  0.619864  \n",
              "...          ...         ...       ...  \n",
              "7974  25816000.0  25772000.0  0.055059  \n",
              "7975  25772000.0  25779000.0  0.056661  \n",
              "7976  25779000.0  25833000.0  0.054763  \n",
              "7977  25833000.0  25769000.0  0.056750  \n",
              "7978  25769000.0  25836000.0  0.055890  \n",
              "\n",
              "[7979 rows x 21 columns]"
            ],
            "text/html": [
              "\n",
              "  <div id=\"df-fbf1560c-0645-433e-a1c5-3bb05b80513e\">\n",
              "    <div class=\"colab-df-container\">\n",
              "      <div>\n",
              "<style scoped>\n",
              "    .dataframe tbody tr th:only-of-type {\n",
              "        vertical-align: middle;\n",
              "    }\n",
              "\n",
              "    .dataframe tbody tr th {\n",
              "        vertical-align: top;\n",
              "    }\n",
              "\n",
              "    .dataframe thead th {\n",
              "        text-align: right;\n",
              "    }\n",
              "</style>\n",
              "<table border=\"1\" class=\"dataframe\">\n",
              "  <thead>\n",
              "    <tr style=\"text-align: right;\">\n",
              "      <th></th>\n",
              "      <th>0</th>\n",
              "      <th>1</th>\n",
              "      <th>2</th>\n",
              "      <th>3</th>\n",
              "      <th>4</th>\n",
              "      <th>5</th>\n",
              "      <th>6</th>\n",
              "      <th>7</th>\n",
              "      <th>8</th>\n",
              "      <th>9</th>\n",
              "      <th>...</th>\n",
              "      <th>11</th>\n",
              "      <th>12</th>\n",
              "      <th>13</th>\n",
              "      <th>14</th>\n",
              "      <th>15</th>\n",
              "      <th>16</th>\n",
              "      <th>17</th>\n",
              "      <th>18</th>\n",
              "      <th>19</th>\n",
              "      <th>0</th>\n",
              "    </tr>\n",
              "  </thead>\n",
              "  <tbody>\n",
              "    <tr>\n",
              "      <th>0</th>\n",
              "      <td>45010000.0</td>\n",
              "      <td>45120000.0</td>\n",
              "      <td>44683000.0</td>\n",
              "      <td>45063000.0</td>\n",
              "      <td>45080000.0</td>\n",
              "      <td>45066000.0</td>\n",
              "      <td>45094000.0</td>\n",
              "      <td>45102000.0</td>\n",
              "      <td>45197000.0</td>\n",
              "      <td>45201000.0</td>\n",
              "      <td>...</td>\n",
              "      <td>45005000.0</td>\n",
              "      <td>44864000.0</td>\n",
              "      <td>44661000.0</td>\n",
              "      <td>44689000.0</td>\n",
              "      <td>44615000.0</td>\n",
              "      <td>44510000.0</td>\n",
              "      <td>44290000.0</td>\n",
              "      <td>44512000.0</td>\n",
              "      <td>44468000.0</td>\n",
              "      <td>0.612181</td>\n",
              "    </tr>\n",
              "    <tr>\n",
              "      <th>1</th>\n",
              "      <td>45120000.0</td>\n",
              "      <td>44683000.0</td>\n",
              "      <td>45063000.0</td>\n",
              "      <td>45080000.0</td>\n",
              "      <td>45066000.0</td>\n",
              "      <td>45094000.0</td>\n",
              "      <td>45102000.0</td>\n",
              "      <td>45197000.0</td>\n",
              "      <td>45201000.0</td>\n",
              "      <td>45266000.0</td>\n",
              "      <td>...</td>\n",
              "      <td>44864000.0</td>\n",
              "      <td>44661000.0</td>\n",
              "      <td>44689000.0</td>\n",
              "      <td>44615000.0</td>\n",
              "      <td>44510000.0</td>\n",
              "      <td>44290000.0</td>\n",
              "      <td>44512000.0</td>\n",
              "      <td>44468000.0</td>\n",
              "      <td>44559000.0</td>\n",
              "      <td>0.610519</td>\n",
              "    </tr>\n",
              "    <tr>\n",
              "      <th>2</th>\n",
              "      <td>44683000.0</td>\n",
              "      <td>45063000.0</td>\n",
              "      <td>45080000.0</td>\n",
              "      <td>45066000.0</td>\n",
              "      <td>45094000.0</td>\n",
              "      <td>45102000.0</td>\n",
              "      <td>45197000.0</td>\n",
              "      <td>45201000.0</td>\n",
              "      <td>45266000.0</td>\n",
              "      <td>45005000.0</td>\n",
              "      <td>...</td>\n",
              "      <td>44661000.0</td>\n",
              "      <td>44689000.0</td>\n",
              "      <td>44615000.0</td>\n",
              "      <td>44510000.0</td>\n",
              "      <td>44290000.0</td>\n",
              "      <td>44512000.0</td>\n",
              "      <td>44468000.0</td>\n",
              "      <td>44559000.0</td>\n",
              "      <td>44503000.0</td>\n",
              "      <td>0.602065</td>\n",
              "    </tr>\n",
              "    <tr>\n",
              "      <th>3</th>\n",
              "      <td>45063000.0</td>\n",
              "      <td>45080000.0</td>\n",
              "      <td>45066000.0</td>\n",
              "      <td>45094000.0</td>\n",
              "      <td>45102000.0</td>\n",
              "      <td>45197000.0</td>\n",
              "      <td>45201000.0</td>\n",
              "      <td>45266000.0</td>\n",
              "      <td>45005000.0</td>\n",
              "      <td>44864000.0</td>\n",
              "      <td>...</td>\n",
              "      <td>44689000.0</td>\n",
              "      <td>44615000.0</td>\n",
              "      <td>44510000.0</td>\n",
              "      <td>44290000.0</td>\n",
              "      <td>44512000.0</td>\n",
              "      <td>44468000.0</td>\n",
              "      <td>44559000.0</td>\n",
              "      <td>44503000.0</td>\n",
              "      <td>44218000.0</td>\n",
              "      <td>0.599513</td>\n",
              "    </tr>\n",
              "    <tr>\n",
              "      <th>4</th>\n",
              "      <td>45080000.0</td>\n",
              "      <td>45066000.0</td>\n",
              "      <td>45094000.0</td>\n",
              "      <td>45102000.0</td>\n",
              "      <td>45197000.0</td>\n",
              "      <td>45201000.0</td>\n",
              "      <td>45266000.0</td>\n",
              "      <td>45005000.0</td>\n",
              "      <td>44864000.0</td>\n",
              "      <td>44661000.0</td>\n",
              "      <td>...</td>\n",
              "      <td>44615000.0</td>\n",
              "      <td>44510000.0</td>\n",
              "      <td>44290000.0</td>\n",
              "      <td>44512000.0</td>\n",
              "      <td>44468000.0</td>\n",
              "      <td>44559000.0</td>\n",
              "      <td>44503000.0</td>\n",
              "      <td>44218000.0</td>\n",
              "      <td>44132000.0</td>\n",
              "      <td>0.619864</td>\n",
              "    </tr>\n",
              "    <tr>\n",
              "      <th>...</th>\n",
              "      <td>...</td>\n",
              "      <td>...</td>\n",
              "      <td>...</td>\n",
              "      <td>...</td>\n",
              "      <td>...</td>\n",
              "      <td>...</td>\n",
              "      <td>...</td>\n",
              "      <td>...</td>\n",
              "      <td>...</td>\n",
              "      <td>...</td>\n",
              "      <td>...</td>\n",
              "      <td>...</td>\n",
              "      <td>...</td>\n",
              "      <td>...</td>\n",
              "      <td>...</td>\n",
              "      <td>...</td>\n",
              "      <td>...</td>\n",
              "      <td>...</td>\n",
              "      <td>...</td>\n",
              "      <td>...</td>\n",
              "      <td>...</td>\n",
              "    </tr>\n",
              "    <tr>\n",
              "      <th>7974</th>\n",
              "      <td>25768000.0</td>\n",
              "      <td>25832000.0</td>\n",
              "      <td>25939000.0</td>\n",
              "      <td>25906000.0</td>\n",
              "      <td>25935000.0</td>\n",
              "      <td>25748000.0</td>\n",
              "      <td>25860000.0</td>\n",
              "      <td>25730000.0</td>\n",
              "      <td>25757000.0</td>\n",
              "      <td>25723000.0</td>\n",
              "      <td>...</td>\n",
              "      <td>25799000.0</td>\n",
              "      <td>25757000.0</td>\n",
              "      <td>25822000.0</td>\n",
              "      <td>25845000.0</td>\n",
              "      <td>25884000.0</td>\n",
              "      <td>25881000.0</td>\n",
              "      <td>25819000.0</td>\n",
              "      <td>25816000.0</td>\n",
              "      <td>25772000.0</td>\n",
              "      <td>0.055059</td>\n",
              "    </tr>\n",
              "    <tr>\n",
              "      <th>7975</th>\n",
              "      <td>25832000.0</td>\n",
              "      <td>25939000.0</td>\n",
              "      <td>25906000.0</td>\n",
              "      <td>25935000.0</td>\n",
              "      <td>25748000.0</td>\n",
              "      <td>25860000.0</td>\n",
              "      <td>25730000.0</td>\n",
              "      <td>25757000.0</td>\n",
              "      <td>25723000.0</td>\n",
              "      <td>25734000.0</td>\n",
              "      <td>...</td>\n",
              "      <td>25757000.0</td>\n",
              "      <td>25822000.0</td>\n",
              "      <td>25845000.0</td>\n",
              "      <td>25884000.0</td>\n",
              "      <td>25881000.0</td>\n",
              "      <td>25819000.0</td>\n",
              "      <td>25816000.0</td>\n",
              "      <td>25772000.0</td>\n",
              "      <td>25779000.0</td>\n",
              "      <td>0.056661</td>\n",
              "    </tr>\n",
              "    <tr>\n",
              "      <th>7976</th>\n",
              "      <td>25939000.0</td>\n",
              "      <td>25906000.0</td>\n",
              "      <td>25935000.0</td>\n",
              "      <td>25748000.0</td>\n",
              "      <td>25860000.0</td>\n",
              "      <td>25730000.0</td>\n",
              "      <td>25757000.0</td>\n",
              "      <td>25723000.0</td>\n",
              "      <td>25734000.0</td>\n",
              "      <td>25799000.0</td>\n",
              "      <td>...</td>\n",
              "      <td>25822000.0</td>\n",
              "      <td>25845000.0</td>\n",
              "      <td>25884000.0</td>\n",
              "      <td>25881000.0</td>\n",
              "      <td>25819000.0</td>\n",
              "      <td>25816000.0</td>\n",
              "      <td>25772000.0</td>\n",
              "      <td>25779000.0</td>\n",
              "      <td>25833000.0</td>\n",
              "      <td>0.054763</td>\n",
              "    </tr>\n",
              "    <tr>\n",
              "      <th>7977</th>\n",
              "      <td>25906000.0</td>\n",
              "      <td>25935000.0</td>\n",
              "      <td>25748000.0</td>\n",
              "      <td>25860000.0</td>\n",
              "      <td>25730000.0</td>\n",
              "      <td>25757000.0</td>\n",
              "      <td>25723000.0</td>\n",
              "      <td>25734000.0</td>\n",
              "      <td>25799000.0</td>\n",
              "      <td>25757000.0</td>\n",
              "      <td>...</td>\n",
              "      <td>25845000.0</td>\n",
              "      <td>25884000.0</td>\n",
              "      <td>25881000.0</td>\n",
              "      <td>25819000.0</td>\n",
              "      <td>25816000.0</td>\n",
              "      <td>25772000.0</td>\n",
              "      <td>25779000.0</td>\n",
              "      <td>25833000.0</td>\n",
              "      <td>25769000.0</td>\n",
              "      <td>0.056750</td>\n",
              "    </tr>\n",
              "    <tr>\n",
              "      <th>7978</th>\n",
              "      <td>25935000.0</td>\n",
              "      <td>25748000.0</td>\n",
              "      <td>25860000.0</td>\n",
              "      <td>25730000.0</td>\n",
              "      <td>25757000.0</td>\n",
              "      <td>25723000.0</td>\n",
              "      <td>25734000.0</td>\n",
              "      <td>25799000.0</td>\n",
              "      <td>25757000.0</td>\n",
              "      <td>25822000.0</td>\n",
              "      <td>...</td>\n",
              "      <td>25884000.0</td>\n",
              "      <td>25881000.0</td>\n",
              "      <td>25819000.0</td>\n",
              "      <td>25816000.0</td>\n",
              "      <td>25772000.0</td>\n",
              "      <td>25779000.0</td>\n",
              "      <td>25833000.0</td>\n",
              "      <td>25769000.0</td>\n",
              "      <td>25836000.0</td>\n",
              "      <td>0.055890</td>\n",
              "    </tr>\n",
              "  </tbody>\n",
              "</table>\n",
              "<p>7979 rows × 21 columns</p>\n",
              "</div>\n",
              "      <button class=\"colab-df-convert\" onclick=\"convertToInteractive('df-fbf1560c-0645-433e-a1c5-3bb05b80513e')\"\n",
              "              title=\"Convert this dataframe to an interactive table.\"\n",
              "              style=\"display:none;\">\n",
              "        \n",
              "  <svg xmlns=\"http://www.w3.org/2000/svg\" height=\"24px\"viewBox=\"0 0 24 24\"\n",
              "       width=\"24px\">\n",
              "    <path d=\"M0 0h24v24H0V0z\" fill=\"none\"/>\n",
              "    <path d=\"M18.56 5.44l.94 2.06.94-2.06 2.06-.94-2.06-.94-.94-2.06-.94 2.06-2.06.94zm-11 1L8.5 8.5l.94-2.06 2.06-.94-2.06-.94L8.5 2.5l-.94 2.06-2.06.94zm10 10l.94 2.06.94-2.06 2.06-.94-2.06-.94-.94-2.06-.94 2.06-2.06.94z\"/><path d=\"M17.41 7.96l-1.37-1.37c-.4-.4-.92-.59-1.43-.59-.52 0-1.04.2-1.43.59L10.3 9.45l-7.72 7.72c-.78.78-.78 2.05 0 2.83L4 21.41c.39.39.9.59 1.41.59.51 0 1.02-.2 1.41-.59l7.78-7.78 2.81-2.81c.8-.78.8-2.07 0-2.86zM5.41 20L4 18.59l7.72-7.72 1.47 1.35L5.41 20z\"/>\n",
              "  </svg>\n",
              "      </button>\n",
              "      \n",
              "  <style>\n",
              "    .colab-df-container {\n",
              "      display:flex;\n",
              "      flex-wrap:wrap;\n",
              "      gap: 12px;\n",
              "    }\n",
              "\n",
              "    .colab-df-convert {\n",
              "      background-color: #E8F0FE;\n",
              "      border: none;\n",
              "      border-radius: 50%;\n",
              "      cursor: pointer;\n",
              "      display: none;\n",
              "      fill: #1967D2;\n",
              "      height: 32px;\n",
              "      padding: 0 0 0 0;\n",
              "      width: 32px;\n",
              "    }\n",
              "\n",
              "    .colab-df-convert:hover {\n",
              "      background-color: #E2EBFA;\n",
              "      box-shadow: 0px 1px 2px rgba(60, 64, 67, 0.3), 0px 1px 3px 1px rgba(60, 64, 67, 0.15);\n",
              "      fill: #174EA6;\n",
              "    }\n",
              "\n",
              "    [theme=dark] .colab-df-convert {\n",
              "      background-color: #3B4455;\n",
              "      fill: #D2E3FC;\n",
              "    }\n",
              "\n",
              "    [theme=dark] .colab-df-convert:hover {\n",
              "      background-color: #434B5C;\n",
              "      box-shadow: 0px 1px 3px 1px rgba(0, 0, 0, 0.15);\n",
              "      filter: drop-shadow(0px 1px 2px rgba(0, 0, 0, 0.3));\n",
              "      fill: #FFFFFF;\n",
              "    }\n",
              "  </style>\n",
              "\n",
              "      <script>\n",
              "        const buttonEl =\n",
              "          document.querySelector('#df-fbf1560c-0645-433e-a1c5-3bb05b80513e button.colab-df-convert');\n",
              "        buttonEl.style.display =\n",
              "          google.colab.kernel.accessAllowed ? 'block' : 'none';\n",
              "\n",
              "        async function convertToInteractive(key) {\n",
              "          const element = document.querySelector('#df-fbf1560c-0645-433e-a1c5-3bb05b80513e');\n",
              "          const dataTable =\n",
              "            await google.colab.kernel.invokeFunction('convertToInteractive',\n",
              "                                                     [key], {});\n",
              "          if (!dataTable) return;\n",
              "\n",
              "          const docLinkHtml = 'Like what you see? Visit the ' +\n",
              "            '<a target=\"_blank\" href=https://colab.research.google.com/notebooks/data_table.ipynb>data table notebook</a>'\n",
              "            + ' to learn more about interactive tables.';\n",
              "          element.innerHTML = '';\n",
              "          dataTable['output_type'] = 'display_data';\n",
              "          await google.colab.output.renderOutput(dataTable, element);\n",
              "          const docLink = document.createElement('div');\n",
              "          docLink.innerHTML = docLinkHtml;\n",
              "          element.appendChild(docLink);\n",
              "        }\n",
              "      </script>\n",
              "    </div>\n",
              "  </div>\n",
              "  "
            ]
          },
          "metadata": {},
          "execution_count": 27
        }
      ]
    },
    {
      "cell_type": "code",
      "source": [
        "X_test_see = pd.DataFrame(np.reshape(X_test, (X_test.shape[0], X_test.shape[1])))\n",
        "pd.DataFrame(X_test_see)"
      ],
      "metadata": {
        "colab": {
          "base_uri": "https://localhost:8080/",
          "height": 424
        },
        "id": "-ba--rRi4q5Y",
        "outputId": "c3ee0414-d62a-4eef-9b90-958139f66447"
      },
      "execution_count": 28,
      "outputs": [
        {
          "output_type": "execute_result",
          "data": {
            "text/plain": [
              "              0           1           2           3           4           5   \\\n",
              "0     25860000.0  25730000.0  25757000.0  25723000.0  25734000.0  25799000.0   \n",
              "1     25730000.0  25757000.0  25723000.0  25734000.0  25799000.0  25757000.0   \n",
              "2     25757000.0  25723000.0  25734000.0  25799000.0  25757000.0  25822000.0   \n",
              "3     25723000.0  25734000.0  25799000.0  25757000.0  25822000.0  25845000.0   \n",
              "4     25734000.0  25799000.0  25757000.0  25822000.0  25845000.0  25884000.0   \n",
              "...          ...         ...         ...         ...         ...         ...   \n",
              "1994  29272000.0  29306000.0  29243000.0  29239000.0  29293000.0  29345000.0   \n",
              "1995  29306000.0  29243000.0  29239000.0  29293000.0  29345000.0  29426000.0   \n",
              "1996  29243000.0  29239000.0  29293000.0  29345000.0  29426000.0  29284000.0   \n",
              "1997  29239000.0  29293000.0  29345000.0  29426000.0  29284000.0  29304000.0   \n",
              "1998  29293000.0  29345000.0  29426000.0  29284000.0  29304000.0  29305000.0   \n",
              "\n",
              "              6           7           8           9           10          11  \\\n",
              "0     25757000.0  25822000.0  25845000.0  25884000.0  25881000.0  25819000.0   \n",
              "1     25822000.0  25845000.0  25884000.0  25881000.0  25819000.0  25816000.0   \n",
              "2     25845000.0  25884000.0  25881000.0  25819000.0  25816000.0  25772000.0   \n",
              "3     25884000.0  25881000.0  25819000.0  25816000.0  25772000.0  25779000.0   \n",
              "4     25881000.0  25819000.0  25816000.0  25772000.0  25779000.0  25833000.0   \n",
              "...          ...         ...         ...         ...         ...         ...   \n",
              "1994  29426000.0  29284000.0  29304000.0  29305000.0  29176000.0  29284000.0   \n",
              "1995  29284000.0  29304000.0  29305000.0  29176000.0  29284000.0  29249000.0   \n",
              "1996  29304000.0  29305000.0  29176000.0  29284000.0  29249000.0  29240000.0   \n",
              "1997  29305000.0  29176000.0  29284000.0  29249000.0  29240000.0  29329000.0   \n",
              "1998  29176000.0  29284000.0  29249000.0  29240000.0  29329000.0  29306000.0   \n",
              "\n",
              "              12          13          14          15          16          17  \\\n",
              "0     25816000.0  25772000.0  25779000.0  25833000.0  25769000.0  25836000.0   \n",
              "1     25772000.0  25779000.0  25833000.0  25769000.0  25836000.0  25807000.0   \n",
              "2     25779000.0  25833000.0  25769000.0  25836000.0  25807000.0  26057000.0   \n",
              "3     25833000.0  25769000.0  25836000.0  25807000.0  26057000.0  26143000.0   \n",
              "4     25769000.0  25836000.0  25807000.0  26057000.0  26143000.0  26193000.0   \n",
              "...          ...         ...         ...         ...         ...         ...   \n",
              "1994  29249000.0  29240000.0  29329000.0  29306000.0  29290000.0  29288000.0   \n",
              "1995  29240000.0  29329000.0  29306000.0  29290000.0  29288000.0  29353000.0   \n",
              "1996  29329000.0  29306000.0  29290000.0  29288000.0  29353000.0  29257000.0   \n",
              "1997  29306000.0  29290000.0  29288000.0  29353000.0  29257000.0  29204000.0   \n",
              "1998  29290000.0  29288000.0  29353000.0  29257000.0  29204000.0  29258000.0   \n",
              "\n",
              "              18          19  \n",
              "0     25807000.0  26057000.0  \n",
              "1     26057000.0  26143000.0  \n",
              "2     26143000.0  26193000.0  \n",
              "3     26193000.0  26245000.0  \n",
              "4     26245000.0  26100000.0  \n",
              "...          ...         ...  \n",
              "1994  29353000.0  29257000.0  \n",
              "1995  29257000.0  29204000.0  \n",
              "1996  29204000.0  29258000.0  \n",
              "1997  29258000.0  29308000.0  \n",
              "1998  29308000.0  29251000.0  \n",
              "\n",
              "[1999 rows x 20 columns]"
            ],
            "text/html": [
              "\n",
              "  <div id=\"df-4588e26d-b3bd-4a08-958d-1a486cf281a5\">\n",
              "    <div class=\"colab-df-container\">\n",
              "      <div>\n",
              "<style scoped>\n",
              "    .dataframe tbody tr th:only-of-type {\n",
              "        vertical-align: middle;\n",
              "    }\n",
              "\n",
              "    .dataframe tbody tr th {\n",
              "        vertical-align: top;\n",
              "    }\n",
              "\n",
              "    .dataframe thead th {\n",
              "        text-align: right;\n",
              "    }\n",
              "</style>\n",
              "<table border=\"1\" class=\"dataframe\">\n",
              "  <thead>\n",
              "    <tr style=\"text-align: right;\">\n",
              "      <th></th>\n",
              "      <th>0</th>\n",
              "      <th>1</th>\n",
              "      <th>2</th>\n",
              "      <th>3</th>\n",
              "      <th>4</th>\n",
              "      <th>5</th>\n",
              "      <th>6</th>\n",
              "      <th>7</th>\n",
              "      <th>8</th>\n",
              "      <th>9</th>\n",
              "      <th>10</th>\n",
              "      <th>11</th>\n",
              "      <th>12</th>\n",
              "      <th>13</th>\n",
              "      <th>14</th>\n",
              "      <th>15</th>\n",
              "      <th>16</th>\n",
              "      <th>17</th>\n",
              "      <th>18</th>\n",
              "      <th>19</th>\n",
              "    </tr>\n",
              "  </thead>\n",
              "  <tbody>\n",
              "    <tr>\n",
              "      <th>0</th>\n",
              "      <td>25860000.0</td>\n",
              "      <td>25730000.0</td>\n",
              "      <td>25757000.0</td>\n",
              "      <td>25723000.0</td>\n",
              "      <td>25734000.0</td>\n",
              "      <td>25799000.0</td>\n",
              "      <td>25757000.0</td>\n",
              "      <td>25822000.0</td>\n",
              "      <td>25845000.0</td>\n",
              "      <td>25884000.0</td>\n",
              "      <td>25881000.0</td>\n",
              "      <td>25819000.0</td>\n",
              "      <td>25816000.0</td>\n",
              "      <td>25772000.0</td>\n",
              "      <td>25779000.0</td>\n",
              "      <td>25833000.0</td>\n",
              "      <td>25769000.0</td>\n",
              "      <td>25836000.0</td>\n",
              "      <td>25807000.0</td>\n",
              "      <td>26057000.0</td>\n",
              "    </tr>\n",
              "    <tr>\n",
              "      <th>1</th>\n",
              "      <td>25730000.0</td>\n",
              "      <td>25757000.0</td>\n",
              "      <td>25723000.0</td>\n",
              "      <td>25734000.0</td>\n",
              "      <td>25799000.0</td>\n",
              "      <td>25757000.0</td>\n",
              "      <td>25822000.0</td>\n",
              "      <td>25845000.0</td>\n",
              "      <td>25884000.0</td>\n",
              "      <td>25881000.0</td>\n",
              "      <td>25819000.0</td>\n",
              "      <td>25816000.0</td>\n",
              "      <td>25772000.0</td>\n",
              "      <td>25779000.0</td>\n",
              "      <td>25833000.0</td>\n",
              "      <td>25769000.0</td>\n",
              "      <td>25836000.0</td>\n",
              "      <td>25807000.0</td>\n",
              "      <td>26057000.0</td>\n",
              "      <td>26143000.0</td>\n",
              "    </tr>\n",
              "    <tr>\n",
              "      <th>2</th>\n",
              "      <td>25757000.0</td>\n",
              "      <td>25723000.0</td>\n",
              "      <td>25734000.0</td>\n",
              "      <td>25799000.0</td>\n",
              "      <td>25757000.0</td>\n",
              "      <td>25822000.0</td>\n",
              "      <td>25845000.0</td>\n",
              "      <td>25884000.0</td>\n",
              "      <td>25881000.0</td>\n",
              "      <td>25819000.0</td>\n",
              "      <td>25816000.0</td>\n",
              "      <td>25772000.0</td>\n",
              "      <td>25779000.0</td>\n",
              "      <td>25833000.0</td>\n",
              "      <td>25769000.0</td>\n",
              "      <td>25836000.0</td>\n",
              "      <td>25807000.0</td>\n",
              "      <td>26057000.0</td>\n",
              "      <td>26143000.0</td>\n",
              "      <td>26193000.0</td>\n",
              "    </tr>\n",
              "    <tr>\n",
              "      <th>3</th>\n",
              "      <td>25723000.0</td>\n",
              "      <td>25734000.0</td>\n",
              "      <td>25799000.0</td>\n",
              "      <td>25757000.0</td>\n",
              "      <td>25822000.0</td>\n",
              "      <td>25845000.0</td>\n",
              "      <td>25884000.0</td>\n",
              "      <td>25881000.0</td>\n",
              "      <td>25819000.0</td>\n",
              "      <td>25816000.0</td>\n",
              "      <td>25772000.0</td>\n",
              "      <td>25779000.0</td>\n",
              "      <td>25833000.0</td>\n",
              "      <td>25769000.0</td>\n",
              "      <td>25836000.0</td>\n",
              "      <td>25807000.0</td>\n",
              "      <td>26057000.0</td>\n",
              "      <td>26143000.0</td>\n",
              "      <td>26193000.0</td>\n",
              "      <td>26245000.0</td>\n",
              "    </tr>\n",
              "    <tr>\n",
              "      <th>4</th>\n",
              "      <td>25734000.0</td>\n",
              "      <td>25799000.0</td>\n",
              "      <td>25757000.0</td>\n",
              "      <td>25822000.0</td>\n",
              "      <td>25845000.0</td>\n",
              "      <td>25884000.0</td>\n",
              "      <td>25881000.0</td>\n",
              "      <td>25819000.0</td>\n",
              "      <td>25816000.0</td>\n",
              "      <td>25772000.0</td>\n",
              "      <td>25779000.0</td>\n",
              "      <td>25833000.0</td>\n",
              "      <td>25769000.0</td>\n",
              "      <td>25836000.0</td>\n",
              "      <td>25807000.0</td>\n",
              "      <td>26057000.0</td>\n",
              "      <td>26143000.0</td>\n",
              "      <td>26193000.0</td>\n",
              "      <td>26245000.0</td>\n",
              "      <td>26100000.0</td>\n",
              "    </tr>\n",
              "    <tr>\n",
              "      <th>...</th>\n",
              "      <td>...</td>\n",
              "      <td>...</td>\n",
              "      <td>...</td>\n",
              "      <td>...</td>\n",
              "      <td>...</td>\n",
              "      <td>...</td>\n",
              "      <td>...</td>\n",
              "      <td>...</td>\n",
              "      <td>...</td>\n",
              "      <td>...</td>\n",
              "      <td>...</td>\n",
              "      <td>...</td>\n",
              "      <td>...</td>\n",
              "      <td>...</td>\n",
              "      <td>...</td>\n",
              "      <td>...</td>\n",
              "      <td>...</td>\n",
              "      <td>...</td>\n",
              "      <td>...</td>\n",
              "      <td>...</td>\n",
              "    </tr>\n",
              "    <tr>\n",
              "      <th>1994</th>\n",
              "      <td>29272000.0</td>\n",
              "      <td>29306000.0</td>\n",
              "      <td>29243000.0</td>\n",
              "      <td>29239000.0</td>\n",
              "      <td>29293000.0</td>\n",
              "      <td>29345000.0</td>\n",
              "      <td>29426000.0</td>\n",
              "      <td>29284000.0</td>\n",
              "      <td>29304000.0</td>\n",
              "      <td>29305000.0</td>\n",
              "      <td>29176000.0</td>\n",
              "      <td>29284000.0</td>\n",
              "      <td>29249000.0</td>\n",
              "      <td>29240000.0</td>\n",
              "      <td>29329000.0</td>\n",
              "      <td>29306000.0</td>\n",
              "      <td>29290000.0</td>\n",
              "      <td>29288000.0</td>\n",
              "      <td>29353000.0</td>\n",
              "      <td>29257000.0</td>\n",
              "    </tr>\n",
              "    <tr>\n",
              "      <th>1995</th>\n",
              "      <td>29306000.0</td>\n",
              "      <td>29243000.0</td>\n",
              "      <td>29239000.0</td>\n",
              "      <td>29293000.0</td>\n",
              "      <td>29345000.0</td>\n",
              "      <td>29426000.0</td>\n",
              "      <td>29284000.0</td>\n",
              "      <td>29304000.0</td>\n",
              "      <td>29305000.0</td>\n",
              "      <td>29176000.0</td>\n",
              "      <td>29284000.0</td>\n",
              "      <td>29249000.0</td>\n",
              "      <td>29240000.0</td>\n",
              "      <td>29329000.0</td>\n",
              "      <td>29306000.0</td>\n",
              "      <td>29290000.0</td>\n",
              "      <td>29288000.0</td>\n",
              "      <td>29353000.0</td>\n",
              "      <td>29257000.0</td>\n",
              "      <td>29204000.0</td>\n",
              "    </tr>\n",
              "    <tr>\n",
              "      <th>1996</th>\n",
              "      <td>29243000.0</td>\n",
              "      <td>29239000.0</td>\n",
              "      <td>29293000.0</td>\n",
              "      <td>29345000.0</td>\n",
              "      <td>29426000.0</td>\n",
              "      <td>29284000.0</td>\n",
              "      <td>29304000.0</td>\n",
              "      <td>29305000.0</td>\n",
              "      <td>29176000.0</td>\n",
              "      <td>29284000.0</td>\n",
              "      <td>29249000.0</td>\n",
              "      <td>29240000.0</td>\n",
              "      <td>29329000.0</td>\n",
              "      <td>29306000.0</td>\n",
              "      <td>29290000.0</td>\n",
              "      <td>29288000.0</td>\n",
              "      <td>29353000.0</td>\n",
              "      <td>29257000.0</td>\n",
              "      <td>29204000.0</td>\n",
              "      <td>29258000.0</td>\n",
              "    </tr>\n",
              "    <tr>\n",
              "      <th>1997</th>\n",
              "      <td>29239000.0</td>\n",
              "      <td>29293000.0</td>\n",
              "      <td>29345000.0</td>\n",
              "      <td>29426000.0</td>\n",
              "      <td>29284000.0</td>\n",
              "      <td>29304000.0</td>\n",
              "      <td>29305000.0</td>\n",
              "      <td>29176000.0</td>\n",
              "      <td>29284000.0</td>\n",
              "      <td>29249000.0</td>\n",
              "      <td>29240000.0</td>\n",
              "      <td>29329000.0</td>\n",
              "      <td>29306000.0</td>\n",
              "      <td>29290000.0</td>\n",
              "      <td>29288000.0</td>\n",
              "      <td>29353000.0</td>\n",
              "      <td>29257000.0</td>\n",
              "      <td>29204000.0</td>\n",
              "      <td>29258000.0</td>\n",
              "      <td>29308000.0</td>\n",
              "    </tr>\n",
              "    <tr>\n",
              "      <th>1998</th>\n",
              "      <td>29293000.0</td>\n",
              "      <td>29345000.0</td>\n",
              "      <td>29426000.0</td>\n",
              "      <td>29284000.0</td>\n",
              "      <td>29304000.0</td>\n",
              "      <td>29305000.0</td>\n",
              "      <td>29176000.0</td>\n",
              "      <td>29284000.0</td>\n",
              "      <td>29249000.0</td>\n",
              "      <td>29240000.0</td>\n",
              "      <td>29329000.0</td>\n",
              "      <td>29306000.0</td>\n",
              "      <td>29290000.0</td>\n",
              "      <td>29288000.0</td>\n",
              "      <td>29353000.0</td>\n",
              "      <td>29257000.0</td>\n",
              "      <td>29204000.0</td>\n",
              "      <td>29258000.0</td>\n",
              "      <td>29308000.0</td>\n",
              "      <td>29251000.0</td>\n",
              "    </tr>\n",
              "  </tbody>\n",
              "</table>\n",
              "<p>1999 rows × 20 columns</p>\n",
              "</div>\n",
              "      <button class=\"colab-df-convert\" onclick=\"convertToInteractive('df-4588e26d-b3bd-4a08-958d-1a486cf281a5')\"\n",
              "              title=\"Convert this dataframe to an interactive table.\"\n",
              "              style=\"display:none;\">\n",
              "        \n",
              "  <svg xmlns=\"http://www.w3.org/2000/svg\" height=\"24px\"viewBox=\"0 0 24 24\"\n",
              "       width=\"24px\">\n",
              "    <path d=\"M0 0h24v24H0V0z\" fill=\"none\"/>\n",
              "    <path d=\"M18.56 5.44l.94 2.06.94-2.06 2.06-.94-2.06-.94-.94-2.06-.94 2.06-2.06.94zm-11 1L8.5 8.5l.94-2.06 2.06-.94-2.06-.94L8.5 2.5l-.94 2.06-2.06.94zm10 10l.94 2.06.94-2.06 2.06-.94-2.06-.94-.94-2.06-.94 2.06-2.06.94z\"/><path d=\"M17.41 7.96l-1.37-1.37c-.4-.4-.92-.59-1.43-.59-.52 0-1.04.2-1.43.59L10.3 9.45l-7.72 7.72c-.78.78-.78 2.05 0 2.83L4 21.41c.39.39.9.59 1.41.59.51 0 1.02-.2 1.41-.59l7.78-7.78 2.81-2.81c.8-.78.8-2.07 0-2.86zM5.41 20L4 18.59l7.72-7.72 1.47 1.35L5.41 20z\"/>\n",
              "  </svg>\n",
              "      </button>\n",
              "      \n",
              "  <style>\n",
              "    .colab-df-container {\n",
              "      display:flex;\n",
              "      flex-wrap:wrap;\n",
              "      gap: 12px;\n",
              "    }\n",
              "\n",
              "    .colab-df-convert {\n",
              "      background-color: #E8F0FE;\n",
              "      border: none;\n",
              "      border-radius: 50%;\n",
              "      cursor: pointer;\n",
              "      display: none;\n",
              "      fill: #1967D2;\n",
              "      height: 32px;\n",
              "      padding: 0 0 0 0;\n",
              "      width: 32px;\n",
              "    }\n",
              "\n",
              "    .colab-df-convert:hover {\n",
              "      background-color: #E2EBFA;\n",
              "      box-shadow: 0px 1px 2px rgba(60, 64, 67, 0.3), 0px 1px 3px 1px rgba(60, 64, 67, 0.15);\n",
              "      fill: #174EA6;\n",
              "    }\n",
              "\n",
              "    [theme=dark] .colab-df-convert {\n",
              "      background-color: #3B4455;\n",
              "      fill: #D2E3FC;\n",
              "    }\n",
              "\n",
              "    [theme=dark] .colab-df-convert:hover {\n",
              "      background-color: #434B5C;\n",
              "      box-shadow: 0px 1px 3px 1px rgba(0, 0, 0, 0.15);\n",
              "      filter: drop-shadow(0px 1px 2px rgba(0, 0, 0, 0.3));\n",
              "      fill: #FFFFFF;\n",
              "    }\n",
              "  </style>\n",
              "\n",
              "      <script>\n",
              "        const buttonEl =\n",
              "          document.querySelector('#df-4588e26d-b3bd-4a08-958d-1a486cf281a5 button.colab-df-convert');\n",
              "        buttonEl.style.display =\n",
              "          google.colab.kernel.accessAllowed ? 'block' : 'none';\n",
              "\n",
              "        async function convertToInteractive(key) {\n",
              "          const element = document.querySelector('#df-4588e26d-b3bd-4a08-958d-1a486cf281a5');\n",
              "          const dataTable =\n",
              "            await google.colab.kernel.invokeFunction('convertToInteractive',\n",
              "                                                     [key], {});\n",
              "          if (!dataTable) return;\n",
              "\n",
              "          const docLinkHtml = 'Like what you see? Visit the ' +\n",
              "            '<a target=\"_blank\" href=https://colab.research.google.com/notebooks/data_table.ipynb>data table notebook</a>'\n",
              "            + ' to learn more about interactive tables.';\n",
              "          element.innerHTML = '';\n",
              "          dataTable['output_type'] = 'display_data';\n",
              "          await google.colab.output.renderOutput(dataTable, element);\n",
              "          const docLink = document.createElement('div');\n",
              "          docLink.innerHTML = docLinkHtml;\n",
              "          element.appendChild(docLink);\n",
              "        }\n",
              "      </script>\n",
              "    </div>\n",
              "  </div>\n",
              "  "
            ]
          },
          "metadata": {},
          "execution_count": 28
        }
      ]
    },
    {
      "cell_type": "code",
      "source": [
        "print(X_train_full_scaled.shape)\n",
        "print(X_test_scaled.shape)"
      ],
      "metadata": {
        "colab": {
          "base_uri": "https://localhost:8080/"
        },
        "id": "ADOYaS6VM0XU",
        "outputId": "17a941b7-935a-4d86-fea5-b9cd4339b8e6"
      },
      "execution_count": 29,
      "outputs": [
        {
          "output_type": "stream",
          "name": "stdout",
          "text": [
            "(7979, 20, 1)\n",
            "(1999, 20, 1)\n"
          ]
        }
      ]
    },
    {
      "cell_type": "code",
      "source": [
        "X_train, X_valid, y_train, y_valid = train_test_split(X_train_full_scaled, y_train_full_scaled, test_size=0.2)"
      ],
      "metadata": {
        "id": "5pEgMznq9ML4"
      },
      "execution_count": 30,
      "outputs": []
    },
    {
      "cell_type": "code",
      "source": [
        "y_train"
      ],
      "metadata": {
        "colab": {
          "base_uri": "https://localhost:8080/"
        },
        "id": "Dk1mZA1VPEOM",
        "outputId": "1dc6a63d-08ac-440c-db17-d4256ef7ae5e"
      },
      "execution_count": 31,
      "outputs": [
        {
          "output_type": "execute_result",
          "data": {
            "text/plain": [
              "array([[0.57598861],\n",
              "       [0.07463882],\n",
              "       [0.10560978],\n",
              "       ...,\n",
              "       [0.7574535 ],\n",
              "       [0.79845145],\n",
              "       [0.67450829]])"
            ]
          },
          "metadata": {},
          "execution_count": 31
        }
      ]
    },
    {
      "cell_type": "code",
      "source": [
        "print('There are '+str(X_train.shape[0]) + ' samples in the training data')\n",
        "print('There are '+str(X_valid.shape[0]) + ' samples in the validation data')\n",
        "print('There are '+str(X_test.shape[0]) + ' samples in the test data')"
      ],
      "metadata": {
        "colab": {
          "base_uri": "https://localhost:8080/"
        },
        "id": "LCpOp6ZE4-hX",
        "outputId": "44b243d1-d343-45ae-881a-f816625c14d8"
      },
      "execution_count": 32,
      "outputs": [
        {
          "output_type": "stream",
          "name": "stdout",
          "text": [
            "There are 6383 samples in the training data\n",
            "There are 1596 samples in the validation data\n",
            "There are 1999 samples in the test data\n"
          ]
        }
      ]
    },
    {
      "cell_type": "code",
      "source": [
        "from keras.models import Sequential\n",
        "from keras.layers import Dense, SimpleRNN, GRU, LSTM\n",
        "from tensorflow.keras.optimizers import SGD"
      ],
      "metadata": {
        "id": "NKFItGwi5_bX"
      },
      "execution_count": 33,
      "outputs": []
    },
    {
      "cell_type": "code",
      "source": [
        "my_lstm = Sequential()\n",
        "my_lstm.add(LSTM(units=50,\n",
        "                 return_sequences=True,\n",
        "                 input_shape = (X_train.shape[1], 1),\n",
        "                 activation='tanh'))\n",
        "my_lstm.add(LSTM(units=50, activation='tanh'))\n",
        "my_lstm.add(Dense(units=1))"
      ],
      "metadata": {
        "id": "_dq4cLTX6Q9j"
      },
      "execution_count": 34,
      "outputs": []
    },
    {
      "cell_type": "code",
      "source": [
        "# 컴파일링\n",
        "my_lstm.compile(optimizer = 'adam',\n",
        "                loss = 'mean_squared_error')\n",
        "\n",
        "early_stop = EarlyStopping(monitor='val_loss', patience=5)\n",
        "\n",
        "model_path = 'model'\n",
        "filename = os.path.join(model_path, 'tmp_checkpoint3.h5')\n",
        "checkpoint = ModelCheckpoint(filename, monitor='val_loss', save_best_only=True, mode='auto')\n",
        "\n",
        "history = my_lstm.fit(X_train, y_train, \n",
        "                                    epochs=200, batch_size=50,\n",
        "                                    validation_data=(X_valid, y_valid), \n",
        "                                    callbacks=[early_stop, checkpoint],\n",
        "                                    verbose=1)"
      ],
      "metadata": {
        "colab": {
          "base_uri": "https://localhost:8080/"
        },
        "id": "PY6lM9HBCBUw",
        "outputId": "246049cc-a53b-4106-9f12-1e3da36f4726"
      },
      "execution_count": 83,
      "outputs": [
        {
          "output_type": "stream",
          "name": "stdout",
          "text": [
            "Epoch 1/200\n",
            "128/128 [==============================] - 2s 9ms/step - loss: 4.4420e-05 - val_loss: 4.2275e-05\n",
            "Epoch 2/200\n",
            "128/128 [==============================] - 1s 7ms/step - loss: 3.3566e-05 - val_loss: 3.6909e-05\n",
            "Epoch 3/200\n",
            "128/128 [==============================] - 1s 6ms/step - loss: 3.5289e-05 - val_loss: 4.2827e-05\n",
            "Epoch 4/200\n",
            "128/128 [==============================] - 1s 7ms/step - loss: 3.3968e-05 - val_loss: 3.9736e-05\n",
            "Epoch 5/200\n",
            "128/128 [==============================] - 1s 7ms/step - loss: 3.6636e-05 - val_loss: 4.6509e-05\n",
            "Epoch 6/200\n",
            "128/128 [==============================] - 1s 7ms/step - loss: 4.0170e-05 - val_loss: 5.6893e-05\n",
            "Epoch 7/200\n",
            "128/128 [==============================] - 1s 7ms/step - loss: 3.3311e-05 - val_loss: 3.7064e-05\n"
          ]
        }
      ]
    },
    {
      "cell_type": "code",
      "source": [
        "# loss: 1.2109e-04 - val_loss: 1.1619e-04 => 0.00011619\n",
        "# loss: 4.9554e-05 - val_loss: 3.8848e-05 => 0.000049554\n",
        "# loss: 3.6782e-05 - val_loss: 3.9965e-05 => 0.000039965"
      ],
      "metadata": {
        "id": "xNjl-T7SXYO0"
      },
      "execution_count": 84,
      "outputs": []
    },
    {
      "cell_type": "code",
      "source": [
        "lstm_prediction = my_lstm.predict(X_test_scaled)\n",
        "print(lstm_prediction)"
      ],
      "metadata": {
        "colab": {
          "base_uri": "https://localhost:8080/"
        },
        "id": "4CNuPOGJPSue",
        "outputId": "11f62e32-9073-4a30-d6d8-6fd0ab8a8704"
      },
      "execution_count": 85,
      "outputs": [
        {
          "output_type": "stream",
          "name": "stdout",
          "text": [
            "[[0.06435466]\n",
            " [0.06695302]\n",
            " [0.06842481]\n",
            " ...\n",
            " [0.15865521]\n",
            " [0.1601359 ]\n",
            " [0.15848613]]\n"
          ]
        }
      ]
    },
    {
      "cell_type": "code",
      "source": [
        "lstm_prediction = sc1.inverse_transform(lstm_prediction)"
      ],
      "metadata": {
        "id": "PJ5_lmKdCzyY"
      },
      "execution_count": 86,
      "outputs": []
    },
    {
      "cell_type": "code",
      "source": [
        "lstm_prediction.shape"
      ],
      "metadata": {
        "colab": {
          "base_uri": "https://localhost:8080/"
        },
        "id": "0hDeV20IB0Au",
        "outputId": "971d25c7-1efa-4235-dbe4-cdcdc7068bc4"
      },
      "execution_count": 87,
      "outputs": [
        {
          "output_type": "execute_result",
          "data": {
            "text/plain": [
              "(1999, 1)"
            ]
          },
          "metadata": {},
          "execution_count": 87
        }
      ]
    },
    {
      "cell_type": "code",
      "source": [
        "lstm_prediction"
      ],
      "metadata": {
        "colab": {
          "base_uri": "https://localhost:8080/"
        },
        "id": "9m1VUlxPPkTn",
        "outputId": "9dcf970b-09dd-4499-843a-d91ec02bc711"
      },
      "execution_count": 88,
      "outputs": [
        {
          "output_type": "execute_result",
          "data": {
            "text/plain": [
              "array([[26092330.],\n",
              "       [26179918.],\n",
              "       [26229532.],\n",
              "       ...,\n",
              "       [29271108.],\n",
              "       [29321022.],\n",
              "       [29265408.]], dtype=float32)"
            ]
          },
          "metadata": {},
          "execution_count": 88
        }
      ]
    },
    {
      "cell_type": "code",
      "source": [
        "actual_pred = pd.DataFrame(columns = ['close', 'prediction'])\n",
        "actual_pred['close'] = df.iloc[8000:, 3][0:len(lstm_prediction)]"
      ],
      "metadata": {
        "id": "ngq_smi1CWHN"
      },
      "execution_count": 89,
      "outputs": []
    },
    {
      "cell_type": "code",
      "source": [
        "actual_pred['prediction'] = lstm_prediction[:,0]"
      ],
      "metadata": {
        "id": "eSjyQ2AOUHaE"
      },
      "execution_count": 90,
      "outputs": []
    },
    {
      "cell_type": "code",
      "source": [
        "actual_pred"
      ],
      "metadata": {
        "id": "u_Myk7fHB0L_",
        "colab": {
          "base_uri": "https://localhost:8080/",
          "height": 424
        },
        "outputId": "fa667964-4f5f-41af-cb9b-8edf715ce725"
      },
      "execution_count": 91,
      "outputs": [
        {
          "output_type": "execute_result",
          "data": {
            "text/plain": [
              "                          close  prediction\n",
              "2022-07-13 17:30:00  26192000.0  26092330.0\n",
              "2022-07-13 18:00:00  26243000.0  26179918.0\n",
              "2022-07-13 18:30:00  26100000.0  26229532.0\n",
              "2022-07-13 19:00:00  26056000.0  26277006.0\n",
              "2022-07-13 19:30:00  26083000.0  26134164.0\n",
              "...                         ...         ...\n",
              "2022-08-24 06:30:00  29268000.0  29270492.0\n",
              "2022-08-24 07:00:00  29310000.0  29218400.0\n",
              "2022-08-24 07:30:00  29251000.0  29271108.0\n",
              "2022-08-24 08:00:00  29307000.0  29321022.0\n",
              "2022-08-24 08:30:00  29307000.0  29265408.0\n",
              "\n",
              "[1999 rows x 2 columns]"
            ],
            "text/html": [
              "\n",
              "  <div id=\"df-7c97328d-950d-4be1-bd56-6f380081cdcd\">\n",
              "    <div class=\"colab-df-container\">\n",
              "      <div>\n",
              "<style scoped>\n",
              "    .dataframe tbody tr th:only-of-type {\n",
              "        vertical-align: middle;\n",
              "    }\n",
              "\n",
              "    .dataframe tbody tr th {\n",
              "        vertical-align: top;\n",
              "    }\n",
              "\n",
              "    .dataframe thead th {\n",
              "        text-align: right;\n",
              "    }\n",
              "</style>\n",
              "<table border=\"1\" class=\"dataframe\">\n",
              "  <thead>\n",
              "    <tr style=\"text-align: right;\">\n",
              "      <th></th>\n",
              "      <th>close</th>\n",
              "      <th>prediction</th>\n",
              "    </tr>\n",
              "  </thead>\n",
              "  <tbody>\n",
              "    <tr>\n",
              "      <th>2022-07-13 17:30:00</th>\n",
              "      <td>26192000.0</td>\n",
              "      <td>26092330.0</td>\n",
              "    </tr>\n",
              "    <tr>\n",
              "      <th>2022-07-13 18:00:00</th>\n",
              "      <td>26243000.0</td>\n",
              "      <td>26179918.0</td>\n",
              "    </tr>\n",
              "    <tr>\n",
              "      <th>2022-07-13 18:30:00</th>\n",
              "      <td>26100000.0</td>\n",
              "      <td>26229532.0</td>\n",
              "    </tr>\n",
              "    <tr>\n",
              "      <th>2022-07-13 19:00:00</th>\n",
              "      <td>26056000.0</td>\n",
              "      <td>26277006.0</td>\n",
              "    </tr>\n",
              "    <tr>\n",
              "      <th>2022-07-13 19:30:00</th>\n",
              "      <td>26083000.0</td>\n",
              "      <td>26134164.0</td>\n",
              "    </tr>\n",
              "    <tr>\n",
              "      <th>...</th>\n",
              "      <td>...</td>\n",
              "      <td>...</td>\n",
              "    </tr>\n",
              "    <tr>\n",
              "      <th>2022-08-24 06:30:00</th>\n",
              "      <td>29268000.0</td>\n",
              "      <td>29270492.0</td>\n",
              "    </tr>\n",
              "    <tr>\n",
              "      <th>2022-08-24 07:00:00</th>\n",
              "      <td>29310000.0</td>\n",
              "      <td>29218400.0</td>\n",
              "    </tr>\n",
              "    <tr>\n",
              "      <th>2022-08-24 07:30:00</th>\n",
              "      <td>29251000.0</td>\n",
              "      <td>29271108.0</td>\n",
              "    </tr>\n",
              "    <tr>\n",
              "      <th>2022-08-24 08:00:00</th>\n",
              "      <td>29307000.0</td>\n",
              "      <td>29321022.0</td>\n",
              "    </tr>\n",
              "    <tr>\n",
              "      <th>2022-08-24 08:30:00</th>\n",
              "      <td>29307000.0</td>\n",
              "      <td>29265408.0</td>\n",
              "    </tr>\n",
              "  </tbody>\n",
              "</table>\n",
              "<p>1999 rows × 2 columns</p>\n",
              "</div>\n",
              "      <button class=\"colab-df-convert\" onclick=\"convertToInteractive('df-7c97328d-950d-4be1-bd56-6f380081cdcd')\"\n",
              "              title=\"Convert this dataframe to an interactive table.\"\n",
              "              style=\"display:none;\">\n",
              "        \n",
              "  <svg xmlns=\"http://www.w3.org/2000/svg\" height=\"24px\"viewBox=\"0 0 24 24\"\n",
              "       width=\"24px\">\n",
              "    <path d=\"M0 0h24v24H0V0z\" fill=\"none\"/>\n",
              "    <path d=\"M18.56 5.44l.94 2.06.94-2.06 2.06-.94-2.06-.94-.94-2.06-.94 2.06-2.06.94zm-11 1L8.5 8.5l.94-2.06 2.06-.94-2.06-.94L8.5 2.5l-.94 2.06-2.06.94zm10 10l.94 2.06.94-2.06 2.06-.94-2.06-.94-.94-2.06-.94 2.06-2.06.94z\"/><path d=\"M17.41 7.96l-1.37-1.37c-.4-.4-.92-.59-1.43-.59-.52 0-1.04.2-1.43.59L10.3 9.45l-7.72 7.72c-.78.78-.78 2.05 0 2.83L4 21.41c.39.39.9.59 1.41.59.51 0 1.02-.2 1.41-.59l7.78-7.78 2.81-2.81c.8-.78.8-2.07 0-2.86zM5.41 20L4 18.59l7.72-7.72 1.47 1.35L5.41 20z\"/>\n",
              "  </svg>\n",
              "      </button>\n",
              "      \n",
              "  <style>\n",
              "    .colab-df-container {\n",
              "      display:flex;\n",
              "      flex-wrap:wrap;\n",
              "      gap: 12px;\n",
              "    }\n",
              "\n",
              "    .colab-df-convert {\n",
              "      background-color: #E8F0FE;\n",
              "      border: none;\n",
              "      border-radius: 50%;\n",
              "      cursor: pointer;\n",
              "      display: none;\n",
              "      fill: #1967D2;\n",
              "      height: 32px;\n",
              "      padding: 0 0 0 0;\n",
              "      width: 32px;\n",
              "    }\n",
              "\n",
              "    .colab-df-convert:hover {\n",
              "      background-color: #E2EBFA;\n",
              "      box-shadow: 0px 1px 2px rgba(60, 64, 67, 0.3), 0px 1px 3px 1px rgba(60, 64, 67, 0.15);\n",
              "      fill: #174EA6;\n",
              "    }\n",
              "\n",
              "    [theme=dark] .colab-df-convert {\n",
              "      background-color: #3B4455;\n",
              "      fill: #D2E3FC;\n",
              "    }\n",
              "\n",
              "    [theme=dark] .colab-df-convert:hover {\n",
              "      background-color: #434B5C;\n",
              "      box-shadow: 0px 1px 3px 1px rgba(0, 0, 0, 0.15);\n",
              "      filter: drop-shadow(0px 1px 2px rgba(0, 0, 0, 0.3));\n",
              "      fill: #FFFFFF;\n",
              "    }\n",
              "  </style>\n",
              "\n",
              "      <script>\n",
              "        const buttonEl =\n",
              "          document.querySelector('#df-7c97328d-950d-4be1-bd56-6f380081cdcd button.colab-df-convert');\n",
              "        buttonEl.style.display =\n",
              "          google.colab.kernel.accessAllowed ? 'block' : 'none';\n",
              "\n",
              "        async function convertToInteractive(key) {\n",
              "          const element = document.querySelector('#df-7c97328d-950d-4be1-bd56-6f380081cdcd');\n",
              "          const dataTable =\n",
              "            await google.colab.kernel.invokeFunction('convertToInteractive',\n",
              "                                                     [key], {});\n",
              "          if (!dataTable) return;\n",
              "\n",
              "          const docLinkHtml = 'Like what you see? Visit the ' +\n",
              "            '<a target=\"_blank\" href=https://colab.research.google.com/notebooks/data_table.ipynb>data table notebook</a>'\n",
              "            + ' to learn more about interactive tables.';\n",
              "          element.innerHTML = '';\n",
              "          dataTable['output_type'] = 'display_data';\n",
              "          await google.colab.output.renderOutput(dataTable, element);\n",
              "          const docLink = document.createElement('div');\n",
              "          docLink.innerHTML = docLinkHtml;\n",
              "          element.appendChild(docLink);\n",
              "        }\n",
              "      </script>\n",
              "    </div>\n",
              "  </div>\n",
              "  "
            ]
          },
          "metadata": {},
          "execution_count": 91
        }
      ]
    },
    {
      "cell_type": "code",
      "source": [
        "from sklearn.metrics import mean_squared_error\n",
        "\n",
        "RMSE = mean_squared_error(actual_pred['close'].values, actual_pred.iloc[:,1].values)**0.5"
      ],
      "metadata": {
        "id": "4LHyXazcUpM0"
      },
      "execution_count": 92,
      "outputs": []
    },
    {
      "cell_type": "code",
      "source": [
        "RMSE"
      ],
      "metadata": {
        "colab": {
          "base_uri": "https://localhost:8080/"
        },
        "id": "MruRbjl4U4L8",
        "outputId": "75d31a8a-d9cd-461d-8893-15e7ae845e71"
      },
      "execution_count": 93,
      "outputs": [
        {
          "output_type": "execute_result",
          "data": {
            "text/plain": [
              "168841.36409017167"
            ]
          },
          "metadata": {},
          "execution_count": 93
        }
      ]
    },
    {
      "cell_type": "code",
      "source": [
        "actual_pred.plot(figsize=(15,10))"
      ],
      "metadata": {
        "colab": {
          "base_uri": "https://localhost:8080/",
          "height": 656
        },
        "id": "drXgtvc9VIWz",
        "outputId": "fb9a39a7-de8f-4f2f-f125-c2d851c853f9"
      },
      "execution_count": 94,
      "outputs": [
        {
          "output_type": "execute_result",
          "data": {
            "text/plain": [
              "<matplotlib.axes._subplots.AxesSubplot at 0x7f1313f90cd0>"
            ]
          },
          "metadata": {},
          "execution_count": 94
        },
        {
          "output_type": "display_data",
          "data": {
            "text/plain": [
              "<Figure size 1080x720 with 1 Axes>"
            ],
            "image/png": "[encoded data removed]"
          },
          "metadata": {
            "needs_background": "light"
          }
        }
      ]
    },
    {
      "cell_type": "markdown",
      "source": [
        "1. epochs=50, batch_size=150\n",
        "  - 275439.52345427184\n",
        "2. epochs=200, batch_size=150\n",
        "  - 171843.0667881005\n",
        "3. epochs=200, batch_size=10\n",
        "  - 199390.26176509066\n",
        "4. epochs=200, batch_size=50\n",
        "  - 169020.27407099277"
      ],
      "metadata": {
        "id": "3r0kX3SbWerZ"
      }
    },
    {
      "cell_type": "code",
      "source": [],
      "metadata": {
        "id": "RBTq76qdZNFs"
      },
      "execution_count": null,
      "outputs": []
    }
  ]
}